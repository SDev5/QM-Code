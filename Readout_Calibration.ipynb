{
 "cells": [
  {
   "cell_type": "markdown",
   "metadata": {},
   "source": [
    "# Import modules"
   ]
  },
  {
   "cell_type": "code",
   "execution_count": null,
   "metadata": {},
   "outputs": [],
   "source": [
    "import stlab\n",
    "import matplotlib.pyplot as plt\n",
    "import numpy as np\n",
    "import matplotlib.pyplot as plt\n",
    "import matplotlib.colors as colors\n",
    "import scipy\n",
    "import time\n",
    "import sys \n",
    "import io\n",
    "import os\n",
    "from IPython.display import display, Javascript\n",
    "from shutil import *\n",
    "from stlab.devices.RS_SGS100A import RS_SGS100A\n",
    "from stlab.devices.Keysight_N5183B import Keysight_N5183B\n",
    "\n",
    "from qm.QuantumMachinesManager import QuantumMachinesManager\n",
    "from qm.qua import *\n",
    "from qm import SimulationConfig\n",
    "from Configuration_BMDevice import config, RR_1_IF,RO_lo, readout_len, R1_RS"
   ]
  },
  {
   "cell_type": "markdown",
   "metadata": {},
   "source": [
    "# Edit configuration parameters"
   ]
  },
  {
   "cell_type": "markdown",
   "metadata": {},
   "source": [
    "**To Do**"
   ]
  },
  {
   "cell_type": "markdown",
   "metadata": {},
   "source": [
    "# Define microwave sources"
   ]
  },
  {
   "cell_type": "code",
   "execution_count": null,
   "metadata": {},
   "outputs": [],
   "source": [
    "RR = RS_SGS100A(\"TCPIP::169.254.184.193::INSTR\", reset=True,verb=True) \n",
    "RR.EXTref()\n",
    "RR.RFon()\n",
    "RR.setCWpower(-15)\n",
    "RR.setCWfrequency(RO_lo)\n",
    "RR.write(':SOURce:IQ:IMPairment:LEAKage:I ' + R1_RS[0])\n",
    "RR.write('SOURce:IQ:IMPairment:LEAKage:Q ' + R1_RS[1])\n",
    "RR.write(':SOURce:IQ:IMPairment:IQRatio:MAGNitude ' + R1_RS[2])\n",
    "RR.write(':SOURce:IQ:IMPairment:QUADrature:ANGLe ' + R1_RS[3])\n",
    "RR.IQon()\n",
    "RR.write(':SOURce:IQ:IMPairment:STATe ON')\n",
    "\n",
    "#LO for downconversion\n",
    "MXG = Keysight_N5183B(addr='TCPIP::192.168.1.91::INSTR',reset=True,verb=True)\n",
    "MXG.RFon()\n",
    "MXG.setCWpower(19)\n",
    "MXG.setCWfrequency(RO_lo)\n",
    "MXG.INTref()"
   ]
  },
  {
   "cell_type": "markdown",
   "metadata": {},
   "source": [
    "# Configure QM unit"
   ]
  },
  {
   "cell_type": "code",
   "execution_count": null,
   "metadata": {},
   "outputs": [],
   "source": [
    "qmm = QuantumMachinesManager()\n",
    "qm = qmm.open_qm(config)"
   ]
  },
  {
   "cell_type": "markdown",
   "metadata": {},
   "source": [
    "# Single Readout Pulse"
   ]
  },
  {
   "cell_type": "markdown",
   "metadata": {},
   "source": [
    "Send I and Q pulses through the fridge and back to the ADC with parameters defined for the specific element in the loop you enter. You can either obtain the data stream as the raw ADC value in time, then plot and determine the TOF and offset, or you can .fft() the data and see the frequency components."
   ]
  },
  {
   "cell_type": "code",
   "execution_count": null,
   "metadata": {},
   "outputs": [],
   "source": [
    "a = 0.5 #0.24\n",
    "n_max = 10000\n",
    "\n",
    "with program() as tof_cal:\n",
    "    \n",
    "    n = declare(int)\n",
    "    adc_stream = declare_stream(adc_trace=True)                \n",
    "    frame_rotation(np.pi/4, \"RR_1\")                                #Why do we need this line?\n",
    "    \n",
    "    with for_(n, 0, n<n_max, n+1):\n",
    "        #update_frequency(\"RR_1\", f_vec[0])    \n",
    "        reset_phase(\"RR_1\")\n",
    "        measure('readout'*amp(a), 'RR_1', adc_stream)\n",
    "        wait(int(1500/4),'RR_1')                       #wait(int((readout_len-readout_len/2-250)/4), \"RR_1\") #wait(int(16/4),'RR_1')\n",
    "        \n",
    "#     #Save raw ADC stream\n",
    "    with stream_processing():\n",
    "        adc_stream.input1().average().save(\"adc1\")\n",
    "        adc_stream.input2().average().save(\"adc2\")    \n",
    "    \n",
    "    #Save fft of ADC stream\n",
    "#     with stream_processing():\n",
    "#         adc_stream.input1().average().fft().save(\"adc1\")\n",
    "#         adc_stream.input2().average().fft().save(\"adc2\")"
   ]
  },
  {
   "cell_type": "code",
   "execution_count": null,
   "metadata": {},
   "outputs": [],
   "source": [
    "job = qm.execute(tof_cal, duration_limit=0, data_limit=0) \n",
    "res_handles= job.result_handles\n",
    "#this line below waits for the entire job to stop processing on the OPX before continuing\n",
    "res_handles.wait_for_all_values()"
   ]
  },
  {
   "cell_type": "markdown",
   "metadata": {},
   "source": [
    "### Analysis"
   ]
  },
  {
   "cell_type": "code",
   "execution_count": null,
   "metadata": {},
   "outputs": [],
   "source": [
    "adc1_handle = res_handles.get('adc1')\n",
    "adc1_data=adc1_handle.fetch_all() #fetches an array of data from the handle that the streamed data was sent to\n",
    "\n",
    "adc2_handle = res_handles.get('adc2')\n",
    "adc2_data=adc2_handle.fetch_all()"
   ]
  },
  {
   "cell_type": "markdown",
   "metadata": {},
   "source": [
    "#### Raw ADC "
   ]
  },
  {
   "cell_type": "code",
   "execution_count": null,
   "metadata": {},
   "outputs": [],
   "source": [
    "plt.figure(num=None, figsize=(10, 8), dpi=100)\n",
    "plt.axhline(0, lw = 1, color ='black', ls = '--')\n",
    "plt.plot(adc1_data/2**12,label = 'adc1') #for plotting the raw ADC\n",
    "plt.plot(adc2_data/2**12,label = 'adc2')\n",
    "plt.xlabel('Time (ns)', fontsize = 16)\n",
    "plt.ylabel('ADC', fontsize = 16)\n",
    "plt.title('One Amp, A={}'.format(a))\n",
    "plt.xticks(fontsize = 16);plt.yticks(fontsize = 16);\n",
    "plt.legend(fontsize = 14);"
   ]
  },
  {
   "cell_type": "code",
   "execution_count": null,
   "metadata": {
    "scrolled": true
   },
   "outputs": [],
   "source": [
    "adc1_offset = np.mean(adc1_data/2**12)\n",
    "adc2_offset = np.mean(adc2_data/2**12)\n",
    "\n",
    "print(adc1_offset)\n",
    "print(adc2_offset)"
   ]
  },
  {
   "cell_type": "markdown",
   "metadata": {},
   "source": [
    "#### FFT"
   ]
  },
  {
   "cell_type": "code",
   "execution_count": null,
   "metadata": {
    "scrolled": false
   },
   "outputs": [],
   "source": [
    "#fft\n",
    "adc1_handle = res_handles.get('adc1')\n",
    "adc1_data=adc1_handle.fetch_all() #fetches an array of data from the handle that the streamed data was sent to\n",
    "\n",
    "adc2_handle = res_handles.get('adc2')\n",
    "adc2_data=adc2_handle.fetch_all()\n",
    "\n",
    "\n",
    "f_vec = np.fft.fftfreq(readout_len-3, 1e-9)*10**(-6)\n",
    "\n",
    "adc1_data_re = (adc1_handle.fetch_all()[2:-1].T[0])\n",
    "adc1_data_im = (adc1_handle.fetch_all()[2:-1].T[1])\n",
    "\n",
    "print(np.shape(adc1_data_re))\n",
    "sig = adc1_data_re +1j*adc1_data_im\n",
    "ph=np.arctan(adc1_data_im/adc1_data_re)\n",
    "\n",
    "adc2_data_re = (adc2_handle.fetch_all()[2:-1].T[0])\n",
    "adc2_data_im = (adc2_handle.fetch_all()[2:-1].T[1])\n",
    "\n",
    "sig2=adc2_data_re +1j*adc2_data_im\n",
    "ph2=np.arctan(adc2_data_im/adc2_data_re)\n",
    "\n",
    "fig, (ax1, ax2) = plt.subplots(1, 2,figsize=(10,4),dpi=100)\n",
    "ax1.plot(f_vec,adc1_data_re, label='re')\n",
    "ax1.plot(f_vec,adc1_data_im, label='im')\n",
    "ax1.set_title('FFT ADC1')\n",
    "ax1.set_xlabel('Frequency (MHz)')\n",
    "ax1.legend(loc='best');\n",
    "\n",
    "ax2.plot(f_vec, adc2_data_re, label='re')\n",
    "ax2.plot(f_vec, adc2_data_im, label='im')\n",
    "ax2.set_title('FFT ADC2')\n",
    "ax2.set_xlabel('Frequency (MHz)')\n",
    "ax2.legend(loc='best');"
   ]
  },
  {
   "cell_type": "code",
   "execution_count": null,
   "metadata": {},
   "outputs": [],
   "source": [
    "print(len(adc1_data_re))"
   ]
  },
  {
   "cell_type": "code",
   "execution_count": null,
   "metadata": {},
   "outputs": [],
   "source": [
    "prefix = 'S' #prefix for measurement folder name.  Can be anything or empty\n",
    "idstring = f'R1_Ringdown_fft'\n",
    "\n",
    "data=np.asarray([adc1_data_re.T,adc1_data_im.T, adc2_data_re.T,adc2_data_im.T])\n",
    "\n",
    "data_dict={'adc1_re':data[0],\n",
    "           'adc1_im':data[1],\n",
    "           'adc2_re':data[2],\n",
    "           'adc2_im':data[3]\n",
    "    }\n",
    "\n",
    "old_stdout = sys.stdout\n",
    "new_stdout = io.StringIO()\n",
    "sys.stdout = new_stdout\n",
    "\n",
    "myfile=stlab.newfile(prefix,idstring,data_dict.keys(),autoindex=True)\n",
    "output = new_stdout.getvalue()\n",
    "sys.stdout = old_stdout\n",
    "print(output)\n",
    "M_ind = output.find(\"Measurement Name\")\n",
    "M_name = output[M_ind+len('Measurement Name:  '):-1]\n",
    "\n",
    "stlab.savedict(myfile,data_dict)"
   ]
  },
  {
   "cell_type": "code",
   "execution_count": null,
   "metadata": {},
   "outputs": [],
   "source": [
    "#plt.figure()\n",
    "#plt.plot(adc1_handle.fetch_all(),  adc2_handle.fetch_all())\n",
    "#plt.axis('equal')"
   ]
  },
  {
   "cell_type": "markdown",
   "metadata": {},
   "source": [
    "## Save this file and configuration file to measurement folder"
   ]
  },
  {
   "cell_type": "code",
   "execution_count": null,
   "metadata": {},
   "outputs": [],
   "source": [
    "#save notebook\n",
    "display(Javascript('IPython.notebook.save_checkpoint();'))"
   ]
  },
  {
   "cell_type": "code",
   "execution_count": null,
   "metadata": {},
   "outputs": [],
   "source": [
    "%%javascript\n",
    "IPython.notebook.kernel.execute('nb_name = \"' + IPython.notebook.notebook_name + '\"')"
   ]
  },
  {
   "cell_type": "code",
   "execution_count": null,
   "metadata": {},
   "outputs": [],
   "source": [
    "#define document paths\n",
    "meas_path = os.path.join(os.getcwd(),M_name)\n",
    "\n",
    "current_nb_path = os.path.join(os.getcwd(),nb_name)\n",
    "save_nb_path = os.path.join(meas_path,nb_name)\n",
    "\n",
    "current_config_path = os.path.join(os.getcwd(), 'Configuration_KNO1.py')\n",
    "save_config_path = os.path.join(meas_path, 'Configuration_KNO1.py')\n",
    "\n",
    "#copy to measurement folder \n",
    "copy2(current_nb_path,save_nb_path);\n",
    "copy2(current_config_path,save_config_path);"
   ]
  }
 ],
 "metadata": {
  "kernelspec": {
   "display_name": "Python 3",
   "language": "python",
   "name": "python3"
  },
  "language_info": {
   "codemirror_mode": {
    "name": "ipython",
    "version": 3
   },
   "file_extension": ".py",
   "mimetype": "text/x-python",
   "name": "python",
   "nbconvert_exporter": "python",
   "pygments_lexer": "ipython3",
   "version": "3.8.8"
  }
 },
 "nbformat": 4,
 "nbformat_minor": 4
}
