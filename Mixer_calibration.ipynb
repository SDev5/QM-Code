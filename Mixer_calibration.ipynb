{
 "cells": [
  {
   "cell_type": "markdown",
   "id": "79c91879",
   "metadata": {},
   "source": [
    "# Import modules."
   ]
  },
  {
   "cell_type": "code",
   "execution_count": null,
   "id": "90de2fad",
   "metadata": {},
   "outputs": [],
   "source": [
    "import matplotlib.pyplot as plt\n",
    "import numpy as np\n",
    "import matplotlib.pyplot as plt\n",
    "import matplotlib.colors as colors\n",
    "import scipy\n",
    "import time\n",
    "from stlab.devices.RS_SGS100A import RS_SGS100A\n",
    "\n",
    "from qm.QuantumMachinesManager import QuantumMachinesManager\n",
    "from qm.qua import *\n",
    "from qm import SimulationConfig\n",
    "from Configuration_BMDevice import config, RR_1_IF,RO_lo, Q1_lo, R1_RS, Q1_RS, Q1_IF\n",
    "#from Configuration_3D_RT_Cavity import config, RR_1_IF,RO_lo"
   ]
  },
  {
   "cell_type": "markdown",
   "id": "f8144176",
   "metadata": {},
   "source": [
    "# Define microwave sources"
   ]
  },
  {
   "cell_type": "code",
   "execution_count": null,
   "id": "c4e4737d",
   "metadata": {
    "scrolled": false
   },
   "outputs": [],
   "source": [
    "RR = RS_SGS100A(\"TCPIP::169.254.184.193::INSTR\", reset=True,verb=True) \n",
    "RR.EXTref()\n",
    "RR.RFon()\n",
    "RR.setCWpower(-15)\n",
    "RR.setCWfrequency(RO_lo)\n",
    "RR.write(':SOURce:IQ:IMPairment:LEAKage:I ' + R1_RS[0])\n",
    "RR.write('SOURce:IQ:IMPairment:LEAKage:Q ' + R1_RS[1])\n",
    "RR.write(':SOURce:IQ:IMPairment:IQRatio:MAGNitude ' + R1_RS[2])\n",
    "RR.write(':SOURce:IQ:IMPairment:QUADrature:ANGLe ' + R1_RS[3])\n",
    "RR.IQon()\n",
    "RR.write(':SOURce:IQ:IMPairment:STATe ON')\n",
    "\n",
    "QDrive = RS_SGS100A(\"TCPIP::169.254.50.124::INSTR\", reset=True,verb=True) \n",
    "QDrive.EXTref()\n",
    "QDrive.RFon()\n",
    "QDrive.setCWpower(-35)\n",
    "QDrive.setCWfrequency(Q1_lo)\n",
    "QDrive.write(':SOURce:IQ:IMPairment:LEAKage:I ' + Q1_RS[0])\n",
    "QDrive.write('SOURce:IQ:IMPairment:LEAKage:Q ' + Q1_RS[1])\n",
    "QDrive.write(':SOURce:IQ:IMPairment:IQRatio:MAGNitude ' + Q1_RS[2])\n",
    "QDrive.write(':SOURce:IQ:IMPairment:QUADrature:ANGLe ' + Q1_RS[3])\n",
    "QDrive.IQon()\n",
    "QDrive.write(':SOURce:IQ:IMPairment:STATe ON')\n",
    "\n",
    "Off_Drive = RS_SGS100A(\"TCPIP::169.254.2.20::INSTR\", reset=True,verb=True) \n",
    "Off_Drive.EXTref()\n",
    "Off_Drive.RFon()\n",
    "Off_Drive.setCWpower(-15)\n",
    "Off_Drive.setCWfrequency(5.89e9)"
   ]
  },
  {
   "cell_type": "markdown",
   "id": "699149cf",
   "metadata": {},
   "source": [
    "# Define functions."
   ]
  },
  {
   "cell_type": "markdown",
   "id": "3e7e43c4",
   "metadata": {},
   "source": [
    "Defines a function that returns the correction matrix shown below.\n",
    "\n",
    "Apply the ``g`` and ``phi`` which are basically the same kinds of scaling factors as in the RS I/Q impairment setting."
   ]
  },
  {
   "cell_type": "code",
   "execution_count": null,
   "id": "595fef6b",
   "metadata": {},
   "outputs": [],
   "source": [
    "def IQ_imbalance_corr(g, phi):\n",
    "    c = np.cos(phi)\n",
    "    s = np.sin(phi)\n",
    "    N = 1 / ((1 - g ** 2) * (2 * c ** 2 - 1))\n",
    "    return [float(N * x) for x in [(1 - g) * c, (1 + g) * s,\n",
    "                                   (1 - g) * s, (1 + g) * c]]"
   ]
  },
  {
   "cell_type": "markdown",
   "id": "17238891",
   "metadata": {},
   "source": [
    "# Configure QM unit."
   ]
  },
  {
   "cell_type": "code",
   "execution_count": null,
   "id": "ccd4c18e",
   "metadata": {},
   "outputs": [],
   "source": [
    "qmm = QuantumMachinesManager()\n",
    "qm  = qmm.open_qm(config)"
   ]
  },
  {
   "cell_type": "markdown",
   "id": "dbd61b2d",
   "metadata": {},
   "source": [
    "# Qubit control mixer correction."
   ]
  },
  {
   "cell_type": "markdown",
   "id": "4bbc15d0",
   "metadata": {},
   "source": [
    "Runs an infinite loop of pulses to a pre-defined element with a user-defined pulse amplitude, which simply scales the power coming out of the OPX"
   ]
  },
  {
   "cell_type": "code",
   "execution_count": null,
   "id": "a2087af1",
   "metadata": {},
   "outputs": [],
   "source": [
    "f_q = 5.86544e9\n",
    "qd_IF = int(f_q - Q1_lo)\n",
    " \n",
    "f = qd_IF #(Q1_IF-4.0e6) #-20e6  \n",
    "print(qd_IF/1e6)\n",
    "\n",
    "QLO_Power = 0\n",
    "OffResD_Power = -31.85\n",
    "OffRes_D_f = 5.89e9\n",
    "\n",
    "QDrive.setCWpower(QLO_Power)\n",
    "Off_Drive.setCWpower(OffResD_Power)\n",
    "Off_Drive.setCWfrequency(OffRes_D_f)"
   ]
  },
  {
   "cell_type": "code",
   "execution_count": null,
   "id": "4465b8ae",
   "metadata": {},
   "outputs": [],
   "source": [
    "with program() as mixer_cal_Qubit:\n",
    "    update_frequency(\"Q1\", f)\n",
    "    with infinite_loop_():\n",
    "        play(\"const\"*amp(1), \"Q1\")\n",
    "        #play(\"pi\" * amp(1.2), \"Q1\", duration = 500)     #, duration=tau)"
   ]
  },
  {
   "cell_type": "code",
   "execution_count": null,
   "id": "420990d4",
   "metadata": {},
   "outputs": [],
   "source": [
    "job = qm.execute(mixer_cal_Qubit, duration_limit=0, data_limit=0)  #Start the above program."
   ]
  },
  {
   "cell_type": "code",
   "execution_count": null,
   "id": "9fd9eda0",
   "metadata": {},
   "outputs": [],
   "source": [
    "job.halt()  #Stop the program."
   ]
  },
  {
   "cell_type": "markdown",
   "id": "d0f2047a",
   "metadata": {},
   "source": [
    "## 1. Mixer leakage correction."
   ]
  },
  {
   "cell_type": "markdown",
   "id": "1d19ac52",
   "metadata": {},
   "source": [
    "You can run through the different values here for the ports of interest, which are defined through the settings of the \"Q1_xy\" element in the configuration file. \n",
    "\n",
    "The \"I\" of \"Q1_xy\" is defined in the configuration to be whichever port on the OPX that you wire it up to be here the number value for the calibration is what you want to enter as 'offset' in the controller for the corresponding port in the configuration file."
   ]
  },
  {
   "cell_type": "code",
   "execution_count": null,
   "id": "b8e521d5",
   "metadata": {},
   "outputs": [],
   "source": [
    "qm.set_dc_offset_by_qe(\"Q1_xy\", \"I\", -0.011)\n",
    "qm.set_dc_offset_by_qe(\"Q1_xy\", \"Q\", 0.0)"
   ]
  },
  {
   "cell_type": "markdown",
   "id": "a489c24f",
   "metadata": {},
   "source": [
    "The above numbers should be saved as ``B_Q_corr_I`` and ``B_Q_corr_Q`` in the configuration file."
   ]
  },
  {
   "cell_type": "markdown",
   "id": "02b15485",
   "metadata": {},
   "source": [
    "## 2. Mixer imbalance correction."
   ]
  },
  {
   "cell_type": "markdown",
   "id": "7189177d",
   "metadata": {},
   "source": [
    "Returns the correction matrix that you should save as ``B_Q_corr_mat`` in configuration file."
   ]
  },
  {
   "cell_type": "code",
   "execution_count": null,
   "id": "e2e31f3d",
   "metadata": {},
   "outputs": [],
   "source": [
    "qm.set_mixer_correction('mixer_XY', int(Q_IF), int(Q_lo), IQ_imbalance_corr(0.0, -np.pi*0.0))\n",
    "\n",
    "print(IQ_imbalance_corr(0.0, -np.pi*0.0))"
   ]
  },
  {
   "cell_type": "markdown",
   "id": "3c49ad24",
   "metadata": {},
   "source": [
    "# Readout input mixer calibration."
   ]
  },
  {
   "cell_type": "markdown",
   "id": "0c5f9aac",
   "metadata": {},
   "source": [
    "The principles are the same as in qubit control mixer calibration. No specific explanation given."
   ]
  },
  {
   "cell_type": "code",
   "execution_count": null,
   "id": "0d6c2a59",
   "metadata": {},
   "outputs": [],
   "source": [
    "with program() as mixer_cal_RR:\n",
    "    \n",
    "    with infinite_loop_():\n",
    "        \n",
    "        play(\"const\"*amp(0.24), \"RR_1\") "
   ]
  },
  {
   "cell_type": "code",
   "execution_count": null,
   "id": "6b8e6f34",
   "metadata": {},
   "outputs": [],
   "source": [
    "job = qm.execute(mixer_cal_RR, duration_limit=0, data_limit=0)"
   ]
  },
  {
   "cell_type": "code",
   "execution_count": null,
   "id": "a7d9d456",
   "metadata": {},
   "outputs": [],
   "source": [
    "job.halt()"
   ]
  },
  {
   "cell_type": "markdown",
   "id": "7b13a3c1",
   "metadata": {},
   "source": [
    "## 1. Mixer leakage correction."
   ]
  },
  {
   "cell_type": "code",
   "execution_count": null,
   "id": "6423c96c",
   "metadata": {},
   "outputs": [],
   "source": [
    "qm.set_dc_offset_by_qe(\"RR_1\", \"I\",  0.00645)\n",
    "qm.set_dc_offset_by_qe(\"RR_1\", \"Q\", -0.00596)"
   ]
  },
  {
   "cell_type": "markdown",
   "id": "27ca7468",
   "metadata": {},
   "source": [
    "## 2. Mixer imbalance correction."
   ]
  },
  {
   "cell_type": "code",
   "execution_count": null,
   "id": "214740e6",
   "metadata": {},
   "outputs": [],
   "source": [
    "qm.set_mixer_correction('mixer_RO', int(RR_1_IF), int(RO_lo), IQ_imbalance_corr(0.017,np.pi*0.0415))\n",
    "\n",
    "print(IQ_imbalance_corr(0.017,np.pi*0.0415))"
   ]
  },
  {
   "cell_type": "markdown",
   "id": "57cc9922",
   "metadata": {},
   "source": [
    "# Readout output mixer calibration."
   ]
  },
  {
   "cell_type": "markdown",
   "id": "ffa2ab7e",
   "metadata": {},
   "source": [
    "Observe the readout signal ... (to be updated)."
   ]
  }
 ],
 "metadata": {
  "kernelspec": {
   "display_name": "Python 3",
   "language": "python",
   "name": "python3"
  },
  "language_info": {
   "codemirror_mode": {
    "name": "ipython",
    "version": 3
   },
   "file_extension": ".py",
   "mimetype": "text/x-python",
   "name": "python",
   "nbconvert_exporter": "python",
   "pygments_lexer": "ipython3",
   "version": "3.8.8"
  }
 },
 "nbformat": 4,
 "nbformat_minor": 5
}
