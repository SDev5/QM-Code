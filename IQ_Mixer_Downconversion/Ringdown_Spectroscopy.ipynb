{
 "cells": [
  {
   "cell_type": "markdown",
   "metadata": {},
   "source": [
    "# Import modules"
   ]
  },
  {
   "cell_type": "code",
   "execution_count": null,
   "metadata": {},
   "outputs": [],
   "source": [
    "import stlab\n",
    "import matplotlib.pyplot as plt\n",
    "import numpy as np\n",
    "import matplotlib.pyplot as plt\n",
    "import matplotlib.colors as colors\n",
    "import scipy\n",
    "from scipy.optimize import *\n",
    "import time\n",
    "import sys \n",
    "import io\n",
    "import os\n",
    "from IPython.display import display, Javascript\n",
    "from shutil import *\n",
    "\n",
    "from qm.QuantumMachinesManager import QuantumMachinesManager\n",
    "from qm.qua import *\n",
    "from qm import SimulationConfig\n",
    "from Configuration_KNO1 import config, RR_1_IF,RO_lo, readout_len"
   ]
  },
  {
   "cell_type": "markdown",
   "metadata": {},
   "source": [
    "# Description"
   ]
  },
  {
   "cell_type": "markdown",
   "metadata": {},
   "source": [
    "Script for doing ringdown spectrosocpy of a linear resonator. A measurement pulse of a certain length is sent to the resonator. The response of the resonator is measured during and after the pulse allowing the observation of energy relaxation. The time-of-flight of the readout pulse is increased. This ensures that data will also be acquired after the application of the readout pulse. \n",
    "\n",
    "**Note: at this point the ringdown_analysis() function might not be as general and optimal as it could be. This might lead to unexpected results. Future improvements should/could include:** \n",
    "* Changing filter: use blocks instead of Gaussians or make use of scipy to design filters "
   ]
  },
  {
   "cell_type": "markdown",
   "metadata": {},
   "source": [
    "# Configure QM unit"
   ]
  },
  {
   "cell_type": "code",
   "execution_count": null,
   "metadata": {},
   "outputs": [],
   "source": [
    "qmm = QuantumMachinesManager()\n",
    "qm = qmm.open_qm(config)"
   ]
  },
  {
   "cell_type": "markdown",
   "metadata": {},
   "source": [
    "# QUA Program"
   ]
  },
  {
   "cell_type": "code",
   "execution_count": null,
   "metadata": {},
   "outputs": [],
   "source": [
    "a = 1.75\n",
    "n_max = 5000\n",
    "\n",
    "with program() as ringdown:\n",
    "    \n",
    "    ind = declare(int)\n",
    "    n = declare(int)\n",
    "\n",
    "    adc_stream = declare_stream(adc_trace=True)\n",
    "    \n",
    "    with for_(n, 0, n<n_max, n+1):\n",
    "        reset_phase(\"RR_1\")\n",
    "        wait(int(2000/4), \"RR_1\")\n",
    "        measure(\"readout\"*amp(a), \"RR_1\", adc_stream) \n",
    "        \n",
    "    #Save raw ADC stream\n",
    "    with stream_processing():\n",
    "        adc_stream.input1().average().save(\"adc1\")\n",
    "        adc_stream.input2().average().save(\"adc2\")    "
   ]
  },
  {
   "cell_type": "code",
   "execution_count": null,
   "metadata": {},
   "outputs": [],
   "source": [
    "job = qm.execute(ringdown, duration_limit=0, data_limit=0) "
   ]
  },
  {
   "cell_type": "code",
   "execution_count": null,
   "metadata": {},
   "outputs": [],
   "source": [
    "res_handles= job.result_handles\n",
    "res_handles.wait_for_all_values()"
   ]
  },
  {
   "cell_type": "markdown",
   "metadata": {},
   "source": [
    "# Fetch data and save to .dat"
   ]
  },
  {
   "cell_type": "code",
   "execution_count": null,
   "metadata": {},
   "outputs": [],
   "source": [
    "#fetch data\n",
    "adc1_handle = res_handles.get('adc1')\n",
    "adc2_handle = res_handles.get('adc2')\n",
    "\n",
    "adc1_data=adc1_handle.fetch_all() \n",
    "adc2_data=adc2_handle.fetch_all()"
   ]
  },
  {
   "cell_type": "code",
   "execution_count": null,
   "metadata": {
    "scrolled": true
   },
   "outputs": [],
   "source": [
    "prefix = 'S' #prefix for measurement folder name.  Can be anything or empty\n",
    "idstring = f'R1_Ringdown_Spec_RRlo={RO_lo*10**(-9)}GHz_RRIF={RR_1_IF*10**(-6)}MHz_a={a}_n={n_max}'\n",
    "\n",
    "data=np.asarray([adc1_data.T,adc2_data.T])\n",
    "\n",
    "data_dict={'adc1':data[0],\n",
    "           'adc2':data[1],\n",
    "    }\n",
    "\n",
    "\n",
    "old_stdout = sys.stdout\n",
    "new_stdout = io.StringIO()\n",
    "sys.stdout = new_stdout\n",
    "\n",
    "myfile=stlab.newfile(prefix,idstring,data_dict.keys(),autoindex=True)\n",
    "output = new_stdout.getvalue()\n",
    "sys.stdout = old_stdout\n",
    "print(output)\n",
    "M_ind = output.find(\"Measurement Name\")\n",
    "M_name = output[M_ind+len('Measurement Name:  '):-1]\n",
    "\n",
    "stlab.savedict(myfile,data_dict)"
   ]
  },
  {
   "cell_type": "markdown",
   "metadata": {},
   "source": [
    "## Processing of Raw ADC"
   ]
  },
  {
   "cell_type": "code",
   "execution_count": null,
   "metadata": {},
   "outputs": [],
   "source": [
    "def Gauss_filt(f,sigma,d1,d2):\n",
    "    '''\n",
    "    Very basic frequency domain filters consisting of two Gaussians centered at d1 and d2, respectively, with \n",
    "    standard deviation sigma.\n",
    "    '''\n",
    "    return np.exp(-((f-d1)/sigma)**2) + np.exp(-((f-d2)/sigma)**2)\n",
    "\n",
    "def Ringdown_analysis(adc1_dat,adc2_dat, readout_len, RR_1_IF,sigma, delta,a):\n",
    "    '''\n",
    "    Function that performs filtering, demodulation and fitting of raw ADC signals that measure the ringdown of a cavity.\n",
    "    '''\n",
    "    adc1 = adc1_data/2**12\n",
    "    adc2 = adc1_data/2**12\n",
    "    plt.figure(num=None, figsize=(10, 8), dpi=120,constrained_layout=True)\n",
    "    plt.plot(adc1)\n",
    "    f_IF_r = RR_1_IF*10**(-6)\n",
    "\n",
    "    #Fourier transform\n",
    "    adc1_fft = np.fft.fft(adc1)\n",
    "    adc2_fft = np.fft.fft(adc2)\n",
    "\n",
    "    #Bandpass around intermediate frequency\n",
    "    f_arr1 = np.linspace(0,readout_len,readout_len)\n",
    "    \n",
    "    #Note: need to automatically find frequency where adc signals peak, this is not exaclty at the IF frequency\n",
    "    adc1_f_ft = adc1_fft*Gauss_filt(f_arr1,sigma,f_IF_r,readout_len-f_IF_r)     \n",
    "    adc2_f_ft = adc2_fft*Gauss_filt(f_arr1,sigma,f_IF_r,readout_len-f_IF_r)\n",
    "    \n",
    "    #f_vec = np.fft.fftfreq(readout_len, 1e-9)*10**(-6)\n",
    "    #f_vec = np.linspace(0,1000,1000)\n",
    "    #plt.plot(f_arr1,np.abs(adc1_f_ft))\n",
    "    #plt.plot(f_arr1,Gauss_filt(f_arr1,sigma,f_IF_r,readout_len-f_IF_r))\n",
    "    #plt.xlim(120,180)\n",
    "    \n",
    "    #Filtered adc signals\n",
    "    adc1_f = np.real(np.fft.ifft(adc1_f_ft))\n",
    "    adc2_f = np.real(np.fft.ifft(adc2_f_ft))\n",
    "    plt.plot(adc1_f)\n",
    "    \n",
    "    #Specify demodulation frequency and weights\n",
    "    t_cut = readout_len - readout_len//10\n",
    "    t = np.linspace(0,t_cut,t_cut)\n",
    "    w_demod = (f_IF_r+delta)*(2*np.pi)*10**(-3)\n",
    "\n",
    "    Integ_cos = np.cos(w_demod*t)\n",
    "    Integ_sin = -np.sin(w_demod*t)\n",
    "    \n",
    "    #Demodulate filtered adc signals\n",
    "    A = Integ_cos*adc1_f[0:t_cut]\n",
    "    B = Integ_sin*adc2_f[0:t_cut]\n",
    "    iA = Integ_sin*adc1_f[0:t_cut]\n",
    "    iB = Integ_cos*adc2_f[0:t_cut]\n",
    "\n",
    "    I_uf = A-B \n",
    "    Q_uf = iA+iB\n",
    "    \n",
    "    #Demodulate and apply lPF to I and Q\n",
    "    f_arr2 = np.linspace(0,t_cut,t_cut)\n",
    "    Q_fft = np.fft.fft(Q_uf)\n",
    "    Q_fft_f = Q_fft*Gauss_filt(f_arr2,sigma,delta,t_cut)\n",
    "    Q_f = np.real(np.fft.ifft(Q_fft_f))[t_cut//20:t_cut-t_cut//10]\n",
    "\n",
    "    I_fft = np.fft.fft(I_uf)\n",
    "    I_fft_f = I_fft*Gauss_filt(f_arr2,sigma,delta,t_cut)\n",
    "    I_f = np.real(np.fft.ifft(I_fft_f))[t_cut//20:t_cut-t_cut//10]\n",
    "    \n",
    "    plt.figure(num=None, figsize=(10, 8), dpi=120,constrained_layout=True)\n",
    "    plt.plot(I_f)\n",
    "    \n",
    "    \n",
    "    #Fit and plot\n",
    "    t_plot = np.arange(t_cut//20,t_cut-t_cut//10,1)\n",
    "    s_dat = np.abs(I_f+1j*Q_f)\n",
    "\n",
    "    def IQ_fit(t,kappa,A,B): \n",
    "        return A*np.exp(-kappa/2*t)+B       \n",
    "    \n",
    "    popt, pcov = curve_fit(IQ_fit, t_plot, s_dat, p0 = [1/200,0.001,0])\n",
    "    kappa = popt[0]*10**3/(2*np.pi)\n",
    "    print('kappa =', kappa, 'MHz')\n",
    "                              \n",
    "    plt.figure(num=None, figsize=(10, 8), dpi=120,constrained_layout=True)\n",
    "    plt.tight_layout()\n",
    "    plt.plot(t_plot,I_f,label = 'I')\n",
    "    plt.plot(t_plot,Q_f,label ='Q')\n",
    "    plt.scatter(t_plot[0:-1:20],s_dat[0:-1:20],label ='|I+iQ|', s=15, c = 'green')\n",
    "    plt.plot(t_plot,IQ_fit(t_plot,popt[0],popt[1],popt[2]),label = 'fit', ls='--')\n",
    "    plt.xlim(t_plot[0],t_plot[-1])\n",
    "    plt.legend(fontsize = 16, loc = 'best')\n",
    "    plt.axhline(0,ls='--',alpha = 0.8, c ='black')\n",
    "    plt.xlabel('t (ns)',fontsize = 16)\n",
    "    plt.ylabel('Output (a.u.)',fontsize = 16)\n",
    "    plt.xticks(fontsize = 16);plt.yticks(fontsize = 16)\n",
    "    plt.title(r'Ringdown, amp = %.1f, $\\Delta$ = %.1f MHz, $\\sigma$ = %.0f, $\\kappa$ = %.4f MHz' % (a, delta, sigma,kappa), fontsize =16)\n",
    "    \n",
    "    return kappa"
   ]
  },
  {
   "cell_type": "code",
   "execution_count": null,
   "metadata": {},
   "outputs": [],
   "source": [
    "#Create directory in measurement folder to save plots\n",
    "meas_path = os.path.join(os.getcwd(),M_name)\n",
    "plot_path = os.path.join(meas_path,'plots')\n",
    "os.mkdir(plot_path)"
   ]
  },
  {
   "cell_type": "code",
   "execution_count": null,
   "metadata": {
    "scrolled": false
   },
   "outputs": [],
   "source": [
    "adc1_dat = adc1_data\n",
    "adc2_dat = adc2_data\n",
    "sigma = 10              #Note: values of kappa depend on the value of sigma. Its probably better to implement a different kind\n",
    "                        #of filter, e.g. rounded blocks instead of Gaussians\n",
    "delta = 0\n",
    "\n",
    "kappa = Ringdown_analysis(adc1_dat,adc2_dat, readout_len, RR_1_IF,sigma, delta,a)\n",
    "\n",
    "#plt.savefig(plot_path+f'/Ringdown_amp={a}_delta={delta}MHz_sigma={sigma}_kappa={round(kappa,4)}MHz.png')"
   ]
  },
  {
   "cell_type": "markdown",
   "metadata": {},
   "source": [
    "# Save this file and configuration file to measurement folder"
   ]
  },
  {
   "cell_type": "code",
   "execution_count": null,
   "metadata": {},
   "outputs": [],
   "source": [
    "%%javascript\n",
    "IPython.notebook.kernel.execute('nb_name = \"' + IPython.notebook.notebook_name + '\"')"
   ]
  },
  {
   "cell_type": "code",
   "execution_count": null,
   "metadata": {},
   "outputs": [],
   "source": [
    "#define document paths\n",
    "meas_path = os.path.join(os.getcwd(),M_name)\n",
    "\n",
    "current_nb_path = os.path.join(os.getcwd(),nb_name)\n",
    "save_nb_path = os.path.join(meas_path,nb_name)\n",
    "\n",
    "current_config_path = os.path.join(os.getcwd(), 'Configuration_KNO1.py')\n",
    "save_config_path = os.path.join(meas_path, 'Configuration_KNO1.py')\n",
    "\n",
    "#save notebook\n",
    "display(Javascript('IPython.notebook.save_checkpoint();'))\n",
    "\n",
    "#copy to measurement folder \n",
    "copy2(current_nb_path,save_nb_path);\n",
    "copy2(current_config_path,save_config_path);"
   ]
  }
 ],
 "metadata": {
  "kernelspec": {
   "display_name": "Python 3",
   "language": "python",
   "name": "python3"
  },
  "language_info": {
   "codemirror_mode": {
    "name": "ipython",
    "version": 3
   },
   "file_extension": ".py",
   "mimetype": "text/x-python",
   "name": "python",
   "nbconvert_exporter": "python",
   "pygments_lexer": "ipython3",
   "version": "3.8.8"
  }
 },
 "nbformat": 4,
 "nbformat_minor": 4
}
