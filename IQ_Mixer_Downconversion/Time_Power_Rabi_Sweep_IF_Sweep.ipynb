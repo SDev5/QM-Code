{
 "cells": [
  {
   "cell_type": "markdown",
   "metadata": {},
   "source": [
    "# Import modules"
   ]
  },
  {
   "cell_type": "code",
   "execution_count": null,
   "metadata": {},
   "outputs": [],
   "source": [
    "import stlab\n",
    "import matplotlib.pyplot as plt\n",
    "from matplotlib.gridspec import GridSpec\n",
    "import numpy as np\n",
    "import matplotlib.pyplot as plt\n",
    "import matplotlib.colors as colors\n",
    "import scipy\n",
    "from scipy.optimize import *\n",
    "import time\n",
    "import sys \n",
    "import io\n",
    "import os\n",
    "from IPython.display import display, Javascript\n",
    "from shutil import *\n",
    "from stlab.devices.RS_SGS100A import RS_SGS100A\n",
    "from stlab.devices.Keysight_N5183B import Keysight_N5183B\n",
    "\n",
    "from qm.QuantumMachinesManager import QuantumMachinesManager\n",
    "from qm.qua import *\n",
    "from qm import SimulationConfig\n",
    "from Configuration_BMDevice import config, RR_1_IF,RO_lo, readout_len, Q1_lo, Q1_IF, sat_Q1_len, gauss_len, R1_RS, Q1_RS"
   ]
  },
  {
   "cell_type": "code",
   "execution_count": null,
   "metadata": {},
   "outputs": [],
   "source": [
    "from scipy.signal import gaussian\n",
    "print(readout_len)\n",
    "\n",
    "#Analog output must be between -0.5 and 0.5-2^-16. Therefore, set amp here to at most 0.25 if you want to scale by 2!\n",
    "gauss_test = 0.24 * gaussian(gauss_len, 0.15* gauss_len)\n",
    "\n",
    "gauss_pulse_len = 20  # nsec\n",
    "Amp = 0.24  # Pulse Amplitude\n",
    "gauss_arg = np.linspace(-3, 3, gauss_pulse_len)\n",
    "gauss_wf = np.exp(-(gauss_arg ** 2) / 2)\n",
    "gauss_wf = Amp * gauss_wf / np.max(gauss_wf)\n",
    "\n",
    "plt.plot(gauss_wf)\n",
    "plt.plot(gauss_test)"
   ]
  },
  {
   "cell_type": "markdown",
   "metadata": {},
   "source": [
    "# Edit configuration parameters"
   ]
  },
  {
   "cell_type": "markdown",
   "metadata": {},
   "source": [
    "**To do**"
   ]
  },
  {
   "cell_type": "markdown",
   "metadata": {},
   "source": [
    "# Define microwave sources"
   ]
  },
  {
   "cell_type": "code",
   "execution_count": null,
   "metadata": {},
   "outputs": [],
   "source": [
    "RR = RS_SGS100A(\"TCPIP::169.254.184.193::INSTR\", reset=True,verb=True) \n",
    "RR.EXTref()\n",
    "RR.RFon()\n",
    "RR.setCWpower(-15)\n",
    "RR.setCWfrequency(RO_lo)\n",
    "RR.write(':SOURce:IQ:IMPairment:LEAKage:I ' + R1_RS[0])\n",
    "RR.write('SOURce:IQ:IMPairment:LEAKage:Q ' + R1_RS[1])\n",
    "RR.write(':SOURce:IQ:IMPairment:IQRatio:MAGNitude ' + R1_RS[2])\n",
    "RR.write(':SOURce:IQ:IMPairment:QUADrature:ANGLe ' + R1_RS[3])\n",
    "RR.IQon()\n",
    "RR.write(':SOURce:IQ:IMPairment:STATe ON')\n",
    "\n",
    "#LO for downconversion\n",
    "MXG = Keysight_N5183B(addr='TCPIP::192.168.1.91::INSTR',reset=True,verb=True)\n",
    "MXG.RFon()\n",
    "MXG.setCWpower(19)\n",
    "MXG.setCWfrequency(RO_lo)\n",
    "MXG.INTref()\n",
    "\n",
    "QDrive = RS_SGS100A(\"TCPIP::169.254.50.124::INSTR\", reset=True,verb=True) \n",
    "QDrive.EXTref()\n",
    "QDrive.RFon()\n",
    "QDrive.setCWpower(0) \n",
    "QDrive.setCWfrequency(Q1_lo)\n",
    "QDrive.write(':SOURce:IQ:IMPairment:LEAKage:I ' + Q1_RS[0])\n",
    "QDrive.write('SOURce:IQ:IMPairment:LEAKage:Q ' + Q1_RS[1])\n",
    "QDrive.write(':SOURce:IQ:IMPairment:IQRatio:MAGNitude ' + Q1_RS[2])\n",
    "QDrive.write(':SOURce:IQ:IMPairment:QUADrature:ANGLe ' + Q1_RS[3])\n",
    "QDrive.IQon()\n",
    "QDrive.write(':SOURce:IQ:IMPairment:STATe ON')"
   ]
  },
  {
   "cell_type": "markdown",
   "metadata": {},
   "source": [
    "# Configure QM unit"
   ]
  },
  {
   "cell_type": "code",
   "execution_count": null,
   "metadata": {},
   "outputs": [],
   "source": [
    "qmm = QuantumMachinesManager()\n",
    "qm = qmm.open_qm(config)"
   ]
  },
  {
   "cell_type": "markdown",
   "metadata": {},
   "source": [
    "# QUA Program"
   ]
  },
  {
   "cell_type": "code",
   "execution_count": null,
   "metadata": {},
   "outputs": [],
   "source": [
    "def Time_Power_Rabi(n_max, f_if, a_vec, b, t_vec, QLO_Power, RR_1_IF):\n",
    "    QDrive.setCWpower(QLO_Power)\n",
    "    \n",
    "    a_min = np.min(a_vec)\n",
    "    a_max = np.max(a_vec)\n",
    "    \n",
    "    if len(a_vec) == 1: \n",
    "        da = 1 \n",
    "    else:\n",
    "        da = a_vec[1]-a_vec[0]\n",
    "        \n",
    "    t_min = int(np.min(t_vec))\n",
    "    t_max = int(np.max(t_vec))\n",
    "    dt = int(t_vec[1] - t_vec[0])\n",
    "        \n",
    "    with program() as time_power_Rabi:  \n",
    "        ##############################\n",
    "        # declare real-time variables:\n",
    "        ##############################\n",
    "\n",
    "        n = declare(int)        # Averaging\n",
    "        f = declare(int)        # Frequencies\n",
    "\n",
    "        f_arr = declare(fixed,value = f_if)\n",
    "        f_i = declare(fixed)\n",
    "        RR_IF = declare(int)\n",
    "        assign(RR_IF,RR_1_IF)\n",
    "\n",
    "        a=declare(fixed)\n",
    "        t=declare(int)\n",
    "\n",
    "        A=declare(fixed)\n",
    "        B=declare(fixed)\n",
    "        iA=declare(fixed)\n",
    "        iB=declare(fixed)\n",
    "        Re=declare(fixed)\n",
    "        Im=declare(fixed)\n",
    "\n",
    "        Re_st = declare_stream()\n",
    "        Im_st = declare_stream()\n",
    "        f_st = declare_stream()\n",
    "\n",
    "        ###############\n",
    "        # the sequence:\n",
    "        ###############\n",
    "        with for_(n, 0, n < n_max, n + 1):\n",
    "\n",
    "            with for_each_(f_i, f_arr): \n",
    "                assign(f,Cast.mul_int_by_fixed(RR_IF, f_i))\n",
    "                save(f,f_st)\n",
    "                update_frequency(\"RR_1\", f)\n",
    "\n",
    "                with for_(a, a_min, a < a_max + da/2, a + da):\n",
    "\n",
    "                    with for_(t, t_min, t <= t_max, t + dt):\n",
    "\n",
    "                        wait(int(2500/4),\"RR_1\",\"Q1\")\n",
    "                        play(\"gaussian\"*amp(a), \"Q1\", duration = t)\n",
    "                        align(\"Q1\", \"RR_1\")\n",
    "\n",
    "                        measure(\"readout\"*amp(b), \"RR_1\", None, demod.full(\"integW_cos\", A, \"out1\"),\n",
    "                                                                    demod.full(\"integW_sin\",B,\"out2\"),\n",
    "                                                                    demod.full(\"integW_sin\", iA, \"out1\"),\n",
    "                                                                    demod.full(\"integW_cos\",iB,\"out2\"))\n",
    "\n",
    "                        assign(Re, A + B)       \n",
    "                        assign(Im, iA - iB)\n",
    "                        save(Re, Re_st)\n",
    "                        save(Im, Im_st)              \n",
    "\n",
    "        with stream_processing():\n",
    "            Re_st.buffer(len(f_vec),len(a_vec), len(t_vec)).average().save(\"Re\")\n",
    "            Im_st.buffer(len(f_vec),len(a_vec), len(t_vec)).average().save(\"Im\")\n",
    "            f_st.buffer(len(f_vec)).average().save(\"f\")\n",
    "\n",
    "    job = qm.execute(time_power_Rabi, duration_limit=0, data_limit=0)\n",
    "\n",
    "    res_handles= job.result_handles\n",
    "    res_handles.wait_for_all_values()\n",
    "\n",
    "    Re_handle = res_handles.get(\"Re\")\n",
    "    Im_handle = res_handles.get(\"Im\")\n",
    "    f_handle = res_handles.get(\"f\")\n",
    "\n",
    "    Re_s = Re_handle.fetch_all()\n",
    "    Im_s = Im_handle.fetch_all()\n",
    "    f = f_handle.fetch_all()\n",
    "    \n",
    "    return Re_s, Im_s, f"
   ]
  },
  {
   "cell_type": "markdown",
   "metadata": {},
   "source": [
    "# Define Parameters"
   ]
  },
  {
   "cell_type": "code",
   "execution_count": null,
   "metadata": {
    "scrolled": true
   },
   "outputs": [],
   "source": [
    "n_max = 10000\n",
    "\n",
    "#Readout pulse amplitude\n",
    "b = 0.24\n",
    "\n",
    "#Qubit pulse time (in clock cycles of 4ns)\n",
    "t_min = 6 \n",
    "t_max = 125 \n",
    "dt = 1\n",
    "t_vec = np.arange(t_min,t_max+dt/2,dt)\n",
    "\n",
    "# Qubit pulse amp \n",
    "a_min = 0\n",
    "a_max = 2\n",
    "da = 0.02\n",
    "a_vec=np.arange(a_min,a_max+da/2,da)\n",
    "\n",
    "f_e = 4.28445e9\n",
    "f_g = 4.28995e9  #4.28935e9\n",
    "f_d = 4.29935e9\n",
    "f_vec = np.array([f_e,f_g,f_d])\n",
    "f_if = ((f_vec-RO_lo)/(RR_1_IF)).tolist()\n",
    "print(f_vec)\n",
    "print(f_if)\n",
    "\n",
    "#print(len(t_vec))\n",
    "print(len(a_vec))\n",
    "print(len(t_vec))\n",
    "#print(a_vec)"
   ]
  },
  {
   "cell_type": "code",
   "execution_count": null,
   "metadata": {
    "scrolled": true
   },
   "outputs": [],
   "source": [
    "Re, Im, f = Time_Power_Rabi(n_max, f_if, a_vec, b, t_vec, 0, RR_1_IF)"
   ]
  },
  {
   "cell_type": "markdown",
   "metadata": {},
   "source": [
    "## Fetch data and save to .dat"
   ]
  },
  {
   "cell_type": "code",
   "execution_count": null,
   "metadata": {},
   "outputs": [],
   "source": [
    "prefix = 'S' #prefix for measurement folder name.  Can be anything or empty\n",
    "idstring = f'Q1_Time_Power_Rabi'\n",
    "\n",
    "f_arr = f[:,]+RO_lo\n",
    "f_arrf = np.repeat(f_arr[:,:,np.newaxis],np.shape(Re)[-1],axis=2)\n",
    "a_arr = ((a_vec.reshape(len(a_vec),1)+t_vec)-t_vec).T\n",
    "a_arrf = np.repeat(a_arr[np.newaxis,:,:],np.shape(f_vec)[0],axis=0)\n",
    "t_arr = ((t_vec.reshape(len(t_vec),1))+a_vec)-a_vec\n",
    "t_arrf = np.repeat(t_arr[np.newaxis,:,:],np.shape(f_vec)[0],axis=0)\n",
    "\n",
    "data_Re = Re\n",
    "data_Im = Im\n",
    "data_Sig = np.abs(data_Re + 1j*data_Im)\n",
    "data_Amp = 20*(np.log10(np.abs(data_Sig)))\n",
    "data_Ph = np.unwrap(np.arctan(data_Im/data_Re))\n",
    "\n",
    "#data = np.asarray([((a_vec.reshape(len(a_vec),1)+t_vec)-t_vec).T,((t_vec.reshape(len(t_vec),1))+a_vec)-a_vec,data_Re,data_Im,data_Sig,data_Amp,data_Ph])\n",
    "data = np.asarray([f_arrf,a_arrf,t_arrf,data_Re,data_Im,data_Sig,data_Amp,data_Ph])\n",
    "\n",
    "for j,fm in enumerate(f_vec):\n",
    "    print(j,fm)\n",
    "    for i,tm in enumerate(t_vec):\n",
    "        print(i,tm)\n",
    "        data_dict={'Resonator Frequency (Hz)': data[0][j][i],\n",
    "               'Qubit Pulse Amplitude':data[1][j][i],\n",
    "               'Qubit Pulse Time (ns)':data[2][j][i]*4,\n",
    "               'Real':data[3][j][i],\n",
    "               'Imaginary':data[4][j][i],\n",
    "               'Signal':data[5][j][i],\n",
    "               'Amplitude (dB)':data[6][j][i],\n",
    "               'Phase (rad)':data[7][j][i]\n",
    "        }\n",
    "        if (i==0 and j==0):\n",
    "            old_stdout = sys.stdout\n",
    "            new_stdout = io.StringIO()\n",
    "            sys.stdout = new_stdout\n",
    "\n",
    "            myfile=stlab.newfile(prefix,idstring,data_dict.keys(),autoindex=True, git_id= False)\n",
    "\n",
    "            output = new_stdout.getvalue()\n",
    "            sys.stdout = old_stdout\n",
    "            print(output)\n",
    "            M_ind = output.find(\"Measurement Name\")\n",
    "            M_name = output[M_ind+len('Measurement Name:  '):-1]\n",
    "        stlab.savedict(myfile,data_dict)   #data_dict['Qubit Pulse Amplitude']\n",
    "        stlab.metagen.fromarrays(myfile,f_vec[0:j+1],a_vec[0:i+1],t_vec[0:i+1]*4,xtitle='Resonator Frequency (Hz)',ytitle='Qubit Pulse Amplitude',ztitle='Qubit Pulse Time (ns)',colnames=list(data_dict))"
   ]
  },
  {
   "cell_type": "markdown",
   "metadata": {},
   "source": [
    "# Processing/Plotting"
   ]
  },
  {
   "cell_type": "code",
   "execution_count": null,
   "metadata": {},
   "outputs": [],
   "source": [
    "l = 0\n",
    "sig = Re[l,:,:] + 1j*Im[l,:,:]\n",
    "\n",
    "power = 20*(np.log10(np.abs(sig)))#+10*np.log10(1000/50)#np.abs(sig)   #equation from wiki\n",
    "power2=power/np.mean(power,axis=0)                             #norm lbl\n",
    "power3=(scipy.ndimage.gaussian_filter(1/(power/np.mean(power,axis=0)),[1,5])) #gaussian filtered norm lbl\n",
    "power4=power-np.mean(power,axis=0)                                    #sub lbl\n",
    "power5=scipy.ndimage.gaussian_filter(power,[1,3])-np.mean(power,axis=0)#gaussian filtered sub lbl\n",
    "power6=scipy.ndimage.gaussian_filter(power,[1,3]) #just gaussian filtered\n",
    "phase = np.unwrap(np.arctan(Im/Re))\n",
    "\n",
    "plt.figure(num=None, figsize=(8, 6), dpi=100)\n",
    "plt.tight_layout()\n",
    "#plt.plot(RO_lo+f_vec,power)\n",
    "#wait_time = 0 \n",
    "\n",
    "X, Y = np.meshgrid(t_vec*4, a_vec)\n",
    "#plt.contourf(X,Y, power.T,levels=100,norm=colors.PowerNorm(gamma=2.5),cmap='RdBu')\n",
    "plt.pcolormesh(X,Y, power6,shading = 'auto',norm=colors.PowerNorm(gamma=2.5),cmap='RdBu')\n",
    "\n",
    "plt.xlabel('Qubit Pulse Time (ns)')\n",
    "plt.title('Time Power Rabi Sweep, t_RO={}ns, R_amp = {}'.format(readout_len, b))\n",
    "# #plt.xticks(X[0,0],X[0,-1])\n",
    "plt.ylabel('Qubit Pulse Amplitude')\n",
    "cbar = plt.colorbar()\n",
    "cbar.ax.get_yaxis().labelpad = 15\n",
    "cbar.ax.set_ylabel('Normalized Signal Amplitude', rotation=270);\n",
    "# cbar = plt.colorbar(im, fraction=0.25, pad=0.04, );"
   ]
  },
  {
   "cell_type": "code",
   "execution_count": null,
   "metadata": {},
   "outputs": [],
   "source": [
    "from scipy.signal import savgol_filter\n",
    "from scipy.signal import find_peaks\n",
    "\n",
    "amax_t = np.argmax(power6, axis = 0)\n",
    "amin_t = np.argmin(power6, axis = 0)\n",
    "\n",
    "power_t_max = np.zeros(len(t_vec))\n",
    "power_t_min = np.zeros(len(t_vec))\n",
    "for i in range(len(t_vec)): \n",
    "    power_t_max[i] = power6[amax_t[i],i]\n",
    "    power_t_min[i] = power6[amin_t[i],i]\n",
    "    \n",
    "cont_t = power_t_max-power_t_min\n",
    "cont_t_s = savgol_filter(cont_t, 13, 9)\n",
    "plt.figure(figsize=(8,6),dpi=100)\n",
    "plt.plot(t_vec*4,cont_t)\n",
    "plt.plot(t_vec*4,cont_t_s)\n",
    "plt.xlabel('Qubit Pulse Time (ns)')\n",
    "plt.ylabel('Peak to peak amplitude (dB)')          #The difference between the maximum and minimum value of  \n",
    "plt.xlim(t_vec[0]*4, t_vec[-1]*4)                  #the smoothed power at a specific qubit pulse time\n",
    "\n",
    "max_c = find_peaks(cont_t_s)[0][0]\n",
    "print(find_peaks(cont_t_s))\n",
    "\n",
    "App = np.round(cont_t_s[max_c],3)\n",
    "t_e = t_vec[max_c]*4\n",
    "a_e = np.round(a_vec[np.argmin(power[:,max_c])],3)\n",
    "a_ind_e = np.argmin(power[:,max_c])\n",
    "\n",
    "print(f'Maximum peak to peak amplitude of {App} dB for t = {t_e} ns')\n",
    "print(f'Corresponding amplitude is a = {a_e}')"
   ]
  },
  {
   "cell_type": "code",
   "execution_count": null,
   "metadata": {},
   "outputs": [],
   "source": [
    "i = 80\n",
    "j = np.argmin(power[:,max_c])\n",
    "\n",
    "fig = plt.figure(figsize=(10,4),dpi=100,constrained_layout=True)\n",
    "gs = GridSpec(1, 2, figure=fig)\n",
    "ax1 = fig.add_subplot(gs[0,0])\n",
    "ax2 = fig.add_subplot(gs[0,1])\n",
    "\n",
    "ax1.plot(t_vec*4,power.T[:,i],label =f'a={a_vec[i]}')\n",
    "ax1.plot(t_vec*4,power.T[:,j],label =f'a={a_vec[j]}')\n",
    "ax1.set_xlabel('Qubit Pulse Time (ns)')\n",
    "ax1.set_ylabel('Normalized Signal Amplitude')\n",
    "ax1.legend(loc = 'best');\n",
    "#ax1.set_ylim(-86.5,-82.5);\n",
    "ax1.set_xlim(t_vec[0]*4,t_vec[-1]*4);\n",
    "\n",
    "k = max_c-5\n",
    "l = max_c\n",
    "ax2.plot(a_vec,power.T[k,:],label =f't={t_vec[k]*4} ns')\n",
    "ax2.plot(a_vec,power.T[l,:],label =f't={t_vec[l]*4} ns')\n",
    "ax2.set_xlabel('Qubit Pulse Amplitude')\n",
    "ax2.set_ylabel('Normalized Signal Amplitude')\n",
    "ax2.legend(loc = 'best');\n",
    "#ax2.set_ylim(-86.5,-82.5);\n",
    "ax2.set_xlim(a_vec[0],a_vec[-1]);"
   ]
  },
  {
   "cell_type": "markdown",
   "metadata": {},
   "source": [
    "# Contrast"
   ]
  },
  {
   "cell_type": "markdown",
   "metadata": {},
   "source": [
    "Idea: probe the resonator response at both $f_g$ and $f_e$, the resonator frequency when the qubit is in the ground or excited state respectively. Perform the Rabi sweeps and determine at which qubit pulse length and amplitude the response $A_e$ at $f_e$ is the largest. Find the corresponding response $A_g$ at $f_g$. Shift these amplitudes (in dB) to the 0 dB level in the following way:\n",
    "\n",
    "$$\n",
    "A_{g,n} = A_g - \\max{(A_g,A_e,A_{\\Delta})} \\\\\n",
    "A_{e,n} = A_e - \\max{(A_g,A_e,A_{\\Delta})}.\\\\\n",
    "$$\n",
    "Here $A_{\\Delta}$ is the resonator response at a frequency $f_{\\Delta}$ far detuned from both $f_g$ and $f_e$. With these shifted amplitudes we calculate the contrast:\n",
    "\n",
    "$$\n",
    "C = \\frac{A_{g,n}-A_{e,n}}{|A_{g,n}+A_{e,n}|},\n",
    "$$\n",
    "\n",
    "The contrast specificies the relative height between the resonator responses at its two dispersively shifted frequencies $f_g$ and $f_e$ and is a measure for the populations in the ground and excited states (here I assume a perfect two-level system, leakage to higher states is not captured by the contrast as a result of the chosen normalization). If all population is in the excited (ground) state $C = 1 (-1)$. If the population in the ground and excited state is equal $C = 0$.\n",
    "\n",
    "**Note:** When changing the readout length, the linewidth of resonator dips increases a lot and $f_e$ tends to shift around a bit. When optimizing for readout parameters (pulse length, pulse amplitude, LO power) it is advised to first do a quick frequency sweep to determine $f_e$ (could maybe be automated in the future). "
   ]
  },
  {
   "cell_type": "code",
   "execution_count": null,
   "metadata": {},
   "outputs": [],
   "source": [
    "#Run power sweeps for 3 frequencies [f_e,f_g,f_Delta]\n",
    "#Find max response at f_e\n",
    "#Find corresponding response at f_g and f_Delta\n",
    "#Give them to C function to calculate contrast\n",
    "\n",
    "Ae = power6[a_ind_e,max_c]\n",
    "\n",
    "sig_g = Re[1,:,:] + 1j*Im[1,:,:]\n",
    "power_g = 20*(np.log10(np.abs(sig_g))) \n",
    "power6_g = scipy.ndimage.gaussian_filter(power_g,[1,3])\n",
    "Ag = power6_g[a_ind_e,max_c]\n",
    "\n",
    "sig_delta = Re[2,:,:] + 1j*Im[2,:,:]\n",
    "power_delta = 20*(np.log10(np.abs(sig_delta))) \n",
    "power6_delta = scipy.ndimage.gaussian_filter(power_delta,[1,3])\n",
    "Ad = power6_delta[a_ind_e,max_c]\n",
    "\n",
    "Ae_n = Ae - np.max([Ae,Ag,Ad])\n",
    "Ag_n = Ag - np.max([Ae,Ag,Ad])\n",
    "#Ad_n = Ad - np.max([Ae,Ag,Ad])\n",
    "\n",
    "def C(Ae,Ag):\n",
    "    return (Ag-Ae)/np.abs(Ag+Ae)\n",
    "\n",
    "print(f'The contrast is {np.round(C(Ae_n,Ag_n),4)}.')"
   ]
  },
  {
   "cell_type": "markdown",
   "metadata": {},
   "source": [
    "# Save this file and configuration file to measurement folder"
   ]
  },
  {
   "cell_type": "code",
   "execution_count": null,
   "metadata": {},
   "outputs": [],
   "source": [
    "#save notebook\n",
    "display(Javascript('IPython.notebook.save_checkpoint();'))"
   ]
  },
  {
   "cell_type": "code",
   "execution_count": null,
   "metadata": {},
   "outputs": [],
   "source": [
    "%%javascript\n",
    "IPython.notebook.kernel.execute('nb_name = \"' + IPython.notebook.notebook_name + '\"')"
   ]
  },
  {
   "cell_type": "code",
   "execution_count": null,
   "metadata": {},
   "outputs": [],
   "source": [
    "#define document paths\n",
    "meas_path = os.path.join(os.getcwd(),M_name)\n",
    "\n",
    "current_nb_path = os.path.join(os.getcwd(),nb_name)\n",
    "save_nb_path = os.path.join(meas_path,nb_name)\n",
    "\n",
    "current_config_path = os.path.join(os.getcwd(), 'Configuration_BMDevice.py')\n",
    "save_config_path = os.path.join(meas_path, 'Configuration_BMDevice.py')\n",
    "\n",
    "#copy to measurement folder \n",
    "copy2(current_nb_path,save_nb_path);\n",
    "copy2(current_config_path,save_config_path);"
   ]
  },
  {
   "cell_type": "markdown",
   "metadata": {},
   "source": [
    "# Simulation"
   ]
  },
  {
   "cell_type": "code",
   "execution_count": null,
   "metadata": {},
   "outputs": [],
   "source": [
    "a1 = 0.24\n",
    "b1 = 1\n",
    "\n",
    "with program() as sim_prog:\n",
    "    a=declare(fixed)\n",
    "    \n",
    "    assign(a, a1)\n",
    "    \n",
    "    play(\"gaussian\"*amp(b1), \"Q1\", duration = 50)\n",
    "    #align(\"Q1\", \"RR_1\")\n",
    "    #wait(int((sat_Q1_len-readout_len/2)/4),\"RR_1\")\n",
    "    #play(\"readout\"*amp(a),\"RR_1\")\n",
    "    #measure(\"readout\"*amp(b), \"RR_1\", \"raw_adc\")\n",
    "        \n",
    "\n",
    "# In the OPX, the analog signal starts 184 after the play command. In order to simulate it, we added the same latency\n",
    "# here, and this is the time_of_flight in the configuration file\n",
    "job = qmm.simulate(config,\n",
    "    sim_prog,\n",
    "    SimulationConfig(\n",
    "        500,\n",
    "        include_analog_waveforms=True,\n",
    "    ),latency=184\n",
    ")\n",
    "\n",
    "# get DAC and digital samples\n",
    "samples = job.get_simulated_samples()\n",
    "\n",
    "# plot all ports:\n",
    "plt.figure(figsize = (8,6),dpi=100)\n",
    "plt.plot(samples.con1.analog[\"1\"])\n",
    "plt.plot(samples.con1.analog[\"3\"],alpha = 1)\n",
    "plt.legend(\"analog 1\")\n",
    "plt.xlabel(\"Time [ns]\")\n",
    "plt.ylabel(\"Signal [V]\")\n",
    "plt.xlim(0)\n",
    "\n",
    "# samples = job.get_simulated_samples()\n",
    "# res = job.result_handles\n",
    "# raw_adc = res.raw_adc_input1.fetch_all()[\"value\"]\n",
    "\n",
    "# ax1 = plt.subplot(211)\n",
    "# plt.plot(samples.con1.analog[\"1\"])\n",
    "# plt.title(\"Simulated samples\")\n",
    "# plt.subplot(212, sharex=ax1)\n",
    "# plt.plot(raw_adc / 2 ** 12)  # Converting the 12 bit ADC value to voltage\n",
    "# plt.title(\"Raw ADC input\")\n",
    "# plt.xlabel(\"Sample number\")\n",
    "# plt.tight_layout()\n",
    "# plt.show()"
   ]
  }
 ],
 "metadata": {
  "kernelspec": {
   "display_name": "Python 3",
   "language": "python",
   "name": "python3"
  },
  "language_info": {
   "codemirror_mode": {
    "name": "ipython",
    "version": 3
   },
   "file_extension": ".py",
   "mimetype": "text/x-python",
   "name": "python",
   "nbconvert_exporter": "python",
   "pygments_lexer": "ipython3",
   "version": "3.8.8"
  }
 },
 "nbformat": 4,
 "nbformat_minor": 4
}
