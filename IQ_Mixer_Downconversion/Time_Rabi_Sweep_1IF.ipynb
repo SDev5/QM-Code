{
 "cells": [
  {
   "cell_type": "markdown",
   "metadata": {},
   "source": [
    "# Import modules"
   ]
  },
  {
   "cell_type": "code",
   "execution_count": null,
   "metadata": {},
   "outputs": [],
   "source": [
    "import stlab\n",
    "import matplotlib.pyplot as plt\n",
    "from matplotlib.gridspec import GridSpec\n",
    "import numpy as np\n",
    "import matplotlib.pyplot as plt\n",
    "import matplotlib.colors as colors\n",
    "import scipy\n",
    "from scipy.optimize import *\n",
    "import time\n",
    "import sys \n",
    "import io\n",
    "import os\n",
    "from IPython.display import display, Javascript\n",
    "from shutil import *\n",
    "from stlab.devices.RS_SGS100A import RS_SGS100A\n",
    "from stlab.devices.Keysight_N5183B import Keysight_N5183B\n",
    "\n",
    "from qm.QuantumMachinesManager import QuantumMachinesManager\n",
    "from qm.qua import *\n",
    "from qm import SimulationConfig\n",
    "from Configuration_BMDevice import config, RR_1_IF,RO_lo, readout_len, Q1_lo, Q1_IF, sat_Q1_len, gauss_len, R1_RS, Q1_RS\n",
    "print(readout_len)"
   ]
  },
  {
   "cell_type": "markdown",
   "metadata": {},
   "source": [
    "# Edit configuration parameters"
   ]
  },
  {
   "cell_type": "markdown",
   "metadata": {},
   "source": [
    "**To do**"
   ]
  },
  {
   "cell_type": "markdown",
   "metadata": {},
   "source": [
    "# Define microwave sources"
   ]
  },
  {
   "cell_type": "code",
   "execution_count": null,
   "metadata": {
    "scrolled": false
   },
   "outputs": [],
   "source": [
    "RR = RS_SGS100A(\"TCPIP::169.254.184.193::INSTR\", reset=True,verb=True) \n",
    "RR.EXTref()\n",
    "RR.RFon()\n",
    "RR.setCWpower(-15)\n",
    "RR.setCWfrequency(RO_lo)\n",
    "RR.write(':SOURce:IQ:IMPairment:LEAKage:I ' + R1_RS[0])\n",
    "RR.write('SOURce:IQ:IMPairment:LEAKage:Q ' + R1_RS[1])\n",
    "RR.write(':SOURce:IQ:IMPairment:IQRatio:MAGNitude ' + R1_RS[2])\n",
    "RR.write(':SOURce:IQ:IMPairment:QUADrature:ANGLe ' + R1_RS[3])\n",
    "RR.IQon()\n",
    "RR.write(':SOURce:IQ:IMPairment:STATe ON')\n",
    "\n",
    "#LO for downconversion\n",
    "MXG = Keysight_N5183B(addr='TCPIP::192.168.1.91::INSTR',reset=True,verb=True)\n",
    "MXG.RFon()\n",
    "MXG.setCWpower(19)\n",
    "MXG.setCWfrequency(RO_lo)\n",
    "MXG.INTref()\n",
    "\n",
    "QDrive = RS_SGS100A(\"TCPIP::169.254.50.124::INSTR\", reset=True,verb=True) \n",
    "QDrive.EXTref()\n",
    "QDrive.RFon()\n",
    "QDrive.setCWpower(-35)\n",
    "QDrive.setCWfrequency(Q1_lo)\n",
    "QDrive.write(':SOURce:IQ:IMPairment:LEAKage:I ' + Q1_RS[0])\n",
    "QDrive.write('SOURce:IQ:IMPairment:LEAKage:Q ' + Q1_RS[1])\n",
    "QDrive.write(':SOURce:IQ:IMPairment:IQRatio:MAGNitude ' + Q1_RS[2])\n",
    "QDrive.write(':SOURce:IQ:IMPairment:QUADrature:ANGLe ' + Q1_RS[3])\n",
    "QDrive.IQon()\n",
    "QDrive.write(':SOURce:IQ:IMPairment:STATe ON')"
   ]
  },
  {
   "cell_type": "markdown",
   "metadata": {},
   "source": [
    "# Configure QM unit"
   ]
  },
  {
   "cell_type": "code",
   "execution_count": null,
   "metadata": {
    "scrolled": true
   },
   "outputs": [],
   "source": [
    "qmm = QuantumMachinesManager()\n",
    "qm = qmm.open_qm(config)"
   ]
  },
  {
   "cell_type": "markdown",
   "metadata": {},
   "source": [
    "# QUA Program"
   ]
  },
  {
   "cell_type": "code",
   "execution_count": null,
   "metadata": {},
   "outputs": [],
   "source": [
    "def Time_Rabi(n_max, f, a, b, t_vec, QLO_Power): \n",
    "    QDrive.setCWpower(QLO_Power)\n",
    "    \n",
    "    t_min = int(np.min(t_vec))\n",
    "    t_max = int(np.max(t_vec))\n",
    "    dt = int(t_vec[1] - t_vec[0])\n",
    "\n",
    "    with program() as time_Rabi:\n",
    "        ##############################\n",
    "        # declare real-time variables:\n",
    "        ##############################\n",
    "        \n",
    "        n = declare(int)        # Averaging\n",
    "        tau = declare(int)\n",
    "\n",
    "        A = declare(fixed)\n",
    "        B = declare(fixed)\n",
    "        iA = declare(fixed)\n",
    "        iB = declare(fixed)\n",
    "        Re = declare(fixed)\n",
    "        Im = declare(fixed)\n",
    "\n",
    "        Re_st = declare_stream()\n",
    "        Im_st = declare_stream()\n",
    "\n",
    "        ###############\n",
    "        # the sequence:\n",
    "        ###############\n",
    "        \n",
    "        update_frequency(\"Q1\", f)\n",
    "        \n",
    "        with for_(n, 0, n < n_max, n + 1):\n",
    "            with for_(tau, t_min, tau <= t_max, tau+dt):    \n",
    "                wait(int(5000 / 4), \"RR_1\", \"Q1\")\n",
    "                play(\"gaussian\" * amp(a), \"Q1\", duration=tau)  \n",
    "                align(\"Q1\", \"RR_1\")\n",
    "                measure(\"readout\" * amp(b), \"RR_1\", None, demod.full(\"integW_cos\", A, \"out1\"),\n",
    "                        demod.full(\"integW_sin\", B, \"out2\"),\n",
    "                        demod.full(\"integW_sin\", iA, \"out1\"),\n",
    "                        demod.full(\"integW_cos\", iB, \"out2\"))\n",
    "\n",
    "                assign(Re, A + B)\n",
    "                assign(Im, iA - iB)\n",
    "                save(Re, Re_st)\n",
    "                save(Im, Im_st)\n",
    "\n",
    "        with stream_processing():\n",
    "            Re_st.buffer(len(t_vec)).average().save(\"Re\")\n",
    "            Im_st.buffer(len(t_vec)).average().save(\"Im\")\n",
    "            \n",
    "    job = qm.execute(time_Rabi, duration_limit=0, data_limit=0)\n",
    "\n",
    "    res_handles= job.result_handles\n",
    "    res_handles.wait_for_all_values()\n",
    "\n",
    "    Re_handle = res_handles.get(\"Re\")\n",
    "    Im_handle = res_handles.get(\"Im\")\n",
    "   \n",
    "    Re_s = Re_handle.fetch_all()\n",
    "    Im_s = Im_handle.fetch_all()\n",
    "   \n",
    "    return Re_s, Im_s "
   ]
  },
  {
   "cell_type": "markdown",
   "metadata": {},
   "source": [
    "# Define Parameters"
   ]
  },
  {
   "cell_type": "code",
   "execution_count": null,
   "metadata": {},
   "outputs": [],
   "source": [
    "n_max = 1e6\n",
    "\n",
    "#Readout pulse amplitude\n",
    "b = 0.24\n",
    "\n",
    "# Qubit pulse amp \n",
    "a = 1 #amp_Q1_pi\n",
    "\n",
    "#Qubit pulse time (in clock cycles of 4ns)\n",
    "t_min = 6 #5\n",
    "t_max = 125\n",
    "dt = 1\n",
    "t_vec = np.arange(t_min,t_max+dt/2,dt)\n",
    "\n",
    "#Qubit pulse frequency\n",
    "f_q = 5.86544e9\n",
    "qd_IF = int(f_q - Q1_lo)\n",
    "\n",
    "#Qubit Pulse Power\n",
    "QLO_Power = 0\n",
    "\n",
    "print(qd_IF/1e6)\n",
    "print(len(t_vec))\n",
    "print(t_vec)"
   ]
  },
  {
   "cell_type": "code",
   "execution_count": null,
   "metadata": {
    "scrolled": true
   },
   "outputs": [],
   "source": [
    "Re, Im = Time_Rabi(n_max, qd_IF, a, b, t_vec, QLO_Power)"
   ]
  },
  {
   "cell_type": "markdown",
   "metadata": {},
   "source": [
    "## Fetch data and save to .dat"
   ]
  },
  {
   "cell_type": "code",
   "execution_count": null,
   "metadata": {},
   "outputs": [],
   "source": [
    "prefix = 'S' #prefix for measurement folder name.  Can be anything or empty\n",
    "idstring = f'Q1_Time_Rabi'\n",
    "\n",
    "f_min = qd_IF\n",
    "f_max = qd_IF\n",
    "df = 10e6\n",
    "f_vec = np.arange(f_min, f_max+df/2, df)\n",
    "\n",
    "data_Re = Re.reshape(len(Re),1)\n",
    "data_Im = Im.reshape(len(Im),1)\n",
    "data_Sig = (np.abs(data_Re + 1j*data_Im)).reshape(len(Re),1)\n",
    "data_Amp = (20*(np.log10(np.abs(data_Sig)))).reshape(len(Re),1)\n",
    "data_Ph = (np.unwrap(np.arctan(data_Im/data_Re))).reshape(len(Re),1)\n",
    "\n",
    "data = np.asarray([(Q1_lo+(f_vec.reshape(len(f_vec),1)+t_vec)-t_vec).T,((t_vec.reshape(len(t_vec),1)+f_vec)-f_vec),data_Re,data_Im,data_Sig,data_Amp,data_Ph])\n",
    "for i,ts in enumerate(t_vec):\n",
    "    print(i,ts)\n",
    "    data_dict={'Qubit Frequency (Hz)':data[0][i],\n",
    "           'Qubit Pulse Time (ns)':data[1][i]*4,\n",
    "           'Real':data[2][i],\n",
    "           'Imaginary':data[3][i],\n",
    "           'Signal':data[4][i],\n",
    "           'Amplitude (dB)':data[5][i],\n",
    "           'Phase (rad)':data[6][i]\n",
    "    }\n",
    "    if i==0:\n",
    "        old_stdout = sys.stdout\n",
    "        new_stdout = io.StringIO()\n",
    "        sys.stdout = new_stdout\n",
    "        \n",
    "        myfile=stlab.newfile(prefix,idstring,data_dict.keys(),autoindex=True, git_id = False)\n",
    "        \n",
    "        output = new_stdout.getvalue()\n",
    "        sys.stdout = old_stdout\n",
    "        print(output)\n",
    "        M_ind = output.find(\"Measurement Name\")\n",
    "        M_name = output[M_ind+len('Measurement Name:  '):-1]\n",
    "    stlab.savedict(myfile,data_dict)\n",
    "    stlab.metagen.fromarrays(myfile,data_dict['Qubit Frequency (Hz)'], t_vec[0:i+1]*4,xtitle='Qubit Frequency (Hz)',ytitle='Qubit Pulse Time (ns)',colnames=list(data_dict))"
   ]
  },
  {
   "cell_type": "markdown",
   "metadata": {},
   "source": [
    "# Processing/Plotting"
   ]
  },
  {
   "cell_type": "code",
   "execution_count": null,
   "metadata": {
    "scrolled": false
   },
   "outputs": [],
   "source": [
    "sig = Re + 1j*Im\n",
    "\n",
    "abs_sig = np.abs(sig)\n",
    "power = 20*(np.log10(np.abs(sig)))#+10*np.log10(1000/50)#np.abs(sig)   #equation from wiki\n",
    "power2=power/np.mean(power,axis=0)                             #norm lbl\n",
    "power3=(scipy.ndimage.gaussian_filter(1/(power/np.mean(power,axis=0)),[5])) #gaussian filtered norm lbl\n",
    "power4=power-np.mean(power,axis=0)                                    #sub lbl\n",
    "power5=scipy.ndimage.gaussian_filter(power,[3])-np.mean(power,axis=0)#gaussian filtered sub lbl\n",
    "power6=scipy.ndimage.gaussian_filter(power,[3]) #just gaussian filtered\n",
    "phase = np.unwrap(np.arctan(Im/Re))\n",
    "\n",
    "from scipy.optimize import curve_fit\n",
    "\n",
    "def f_cos(t,A,drive_period,phi,gamma,C):\n",
    "    return A*np.cos(2 * np.pi * t / drive_period + phi)*np.exp(-t*2*np.pi/gamma) + C\n",
    "\n",
    "popt, pcov = curve_fit(f_cos, t_vec, abs_sig,p0 = [2.2e-5, 90, np.pi/4,800,4e-5])\n",
    "\n",
    "\n",
    "plt.figure(num=None, figsize=(8, 6), dpi=100)\n",
    "plt.tight_layout()\n",
    "\n",
    "plt.rcParams['axes.titlepad'] = 14\n",
    "plt.title('Time Rabi, Q_amp={}, t_RO={}ns, R_amp = {}, Qfreq  = {} GHz, QLO_Power = {} dBm, n = {}'.format(a,readout_len,b, f_q/1e9,QLO_Power, n_max)) \n",
    "plt.plot(t_vec*4,abs_sig)\n",
    "\n",
    "t = np.linspace(0,t_vec[-1],500)\n",
    "plt.plot(t*4,f_cos(t,popt[0],popt[1],popt[2],popt[3],popt[4]),label = 'fit')\n",
    "\n",
    "plt.xlabel('Qubit Pulse Time (ns)', fontsize = 16)\n",
    "plt.ylabel('|I+iQ| (a.u.)', fontsize = 16)\n",
    "plt.xlim(0,t[-1]*4)\n",
    "plt.xticks(fontsize = 16); plt.yticks(fontsize = 16)\n",
    "plt.legend(fontsize = 14)\n",
    "print('The pi pulse time is', np.round(popt[1]*4/2,3), 'ns.')\n",
    "\n",
    "print(np.sqrt(np.diag(pcov))[1]*4)"
   ]
  },
  {
   "cell_type": "markdown",
   "metadata": {},
   "source": [
    "# Save this file and configuration file to measurement folder"
   ]
  },
  {
   "cell_type": "code",
   "execution_count": null,
   "metadata": {},
   "outputs": [],
   "source": [
    "#save notebook\n",
    "display(Javascript('IPython.notebook.save_checkpoint();'))"
   ]
  },
  {
   "cell_type": "code",
   "execution_count": null,
   "metadata": {},
   "outputs": [],
   "source": [
    "%%javascript\n",
    "IPython.notebook.kernel.execute('nb_name = \"' + IPython.notebook.notebook_name + '\"')"
   ]
  },
  {
   "cell_type": "code",
   "execution_count": null,
   "metadata": {},
   "outputs": [],
   "source": [
    "#define document paths\n",
    "meas_path = os.path.join(os.getcwd(),M_name)\n",
    "\n",
    "current_nb_path = os.path.join(os.getcwd(),nb_name)\n",
    "save_nb_path = os.path.join(meas_path,nb_name)\n",
    "\n",
    "current_config_path = os.path.join(os.getcwd(), 'Configuration_BMDevice.py')\n",
    "save_config_path = os.path.join(meas_path, 'Configuration_BMDevice.py')\n",
    "\n",
    "#copy to measurement folder \n",
    "copy2(current_nb_path,save_nb_path);\n",
    "copy2(current_config_path,save_config_path);"
   ]
  }
 ],
 "metadata": {
  "kernelspec": {
   "display_name": "Python 3",
   "language": "python",
   "name": "python3"
  },
  "language_info": {
   "codemirror_mode": {
    "name": "ipython",
    "version": 3
   },
   "file_extension": ".py",
   "mimetype": "text/x-python",
   "name": "python",
   "nbconvert_exporter": "python",
   "pygments_lexer": "ipython3",
   "version": "3.8.8"
  }
 },
 "nbformat": 4,
 "nbformat_minor": 4
}
