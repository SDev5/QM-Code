{
 "cells": [
  {
   "cell_type": "markdown",
   "metadata": {},
   "source": [
    "# Import modules"
   ]
  },
  {
   "cell_type": "code",
   "execution_count": null,
   "metadata": {},
   "outputs": [],
   "source": [
    "import stlab\n",
    "import matplotlib.pyplot as plt\n",
    "import numpy as np\n",
    "import matplotlib.pyplot as plt\n",
    "import matplotlib.colors as colors\n",
    "import scipy\n",
    "from scipy.optimize import *\n",
    "import time\n",
    "import sys \n",
    "import io\n",
    "import os\n",
    "from IPython.display import display, Javascript\n",
    "from shutil import *\n",
    "from stlab.devices.RS_SGS100A import RS_SGS100A\n",
    "from stlab.devices.Keysight_N5183B import Keysight_N5183B\n",
    "\n",
    "from qm.QuantumMachinesManager import QuantumMachinesManager\n",
    "from qm.qua import *\n",
    "from qm import SimulationConfig\n",
    "from Configuration_BMDevice import config, RR_1_IF,RO_lo, readout_len, R1_RS"
   ]
  },
  {
   "cell_type": "markdown",
   "metadata": {},
   "source": [
    "# Configure QM unit"
   ]
  },
  {
   "cell_type": "code",
   "execution_count": null,
   "metadata": {
    "scrolled": true
   },
   "outputs": [],
   "source": [
    "qmm = QuantumMachinesManager()\n",
    "qm = qmm.open_qm(config)"
   ]
  },
  {
   "cell_type": "markdown",
   "metadata": {},
   "source": [
    "# Define microwave sources"
   ]
  },
  {
   "cell_type": "code",
   "execution_count": null,
   "metadata": {},
   "outputs": [],
   "source": [
    "RR = RS_SGS100A(\"TCPIP::169.254.184.193::INSTR\", reset=True,verb=True) \n",
    "RR.EXTref()\n",
    "RR.RFon()\n",
    "RR.setCWpower(-15)\n",
    "RR.setCWfrequency(RO_lo)\n",
    "RR.write(':SOURce:IQ:IMPairment:LEAKage:I ' + R1_RS[0])\n",
    "RR.write('SOURce:IQ:IMPairment:LEAKage:Q ' + R1_RS[1])\n",
    "RR.write(':SOURce:IQ:IMPairment:IQRatio:MAGNitude ' + R1_RS[2])\n",
    "RR.write(':SOURce:IQ:IMPairment:QUADrature:ANGLe ' + R1_RS[3])\n",
    "RR.IQon()\n",
    "RR.write(':SOURce:IQ:IMPairment:STATe ON')\n",
    "\n",
    "#LO for downconversion\n",
    "MXG = Keysight_N5183B(addr='TCPIP::192.168.1.91::INSTR',reset=True,verb=True)\n",
    "MXG.RFon()\n",
    "MXG.setCWpower(19)\n",
    "MXG.setCWfrequency(RO_lo)\n",
    "MXG.INTref()"
   ]
  },
  {
   "cell_type": "markdown",
   "metadata": {},
   "source": [
    "# QUA Program"
   ]
  },
  {
   "cell_type": "code",
   "execution_count": null,
   "metadata": {},
   "outputs": [],
   "source": [
    "# n_max = 10000\n",
    "n_max = 5000\n",
    "f_min=RR_1_IF-38.0e6  \n",
    "f_max=RR_1_IF+25.0e6 \n",
    "#df=0.05e6\n",
    "df = 0.5e6\n",
    "f_vec = np.arange(f_min, f_max+df/2, df)\n",
    "\n",
    "a_min=0.1\n",
    "a_max=1\n",
    "da = 0.030\n",
    "# a_min=0.2\n",
    "# a_max=0.25\n",
    "# da=0.025\n",
    "a_vec=np.arange(a_min,a_max+da/2,da)\n",
    "\n",
    "print(len(f_vec))\n",
    "print(len(a_vec))"
   ]
  },
  {
   "cell_type": "code",
   "execution_count": null,
   "metadata": {},
   "outputs": [],
   "source": [
    "with program() as res_spec:\n",
    "    \n",
    "    n = declare(int)\n",
    "    f = declare(int)\n",
    "    a = declare(fixed)\n",
    "    \n",
    "    A=declare(fixed)\n",
    "    B=declare(fixed)\n",
    "    iA=declare(fixed)\n",
    "    iB=declare(fixed)\n",
    "    Re=declare(fixed)\n",
    "    Im=declare(fixed)\n",
    "    \n",
    "    Re_st = declare_stream()\n",
    "    Im_st = declare_stream()\n",
    "        \n",
    "    with for_(n, 0, n<n_max, n+1):     # averaging\n",
    "        \n",
    "        with for_(f, f_min, f<f_max+df/2, f+df):\n",
    "            \n",
    "            with for_(a,a_min,a<a_max+da/2,a+da):  # power\n",
    "                update_frequency(\"RR_1\", f)\n",
    "                wait(int(5*readout_len/4), \"RR_1\")\n",
    "                measure('readout'*amp(a), 'RR_1', None, demod.full(\"integW_cos\", A, \"out1\"),\n",
    "                                                        demod.full(\"integW_sin\",B,\"out2\"),\n",
    "                                                        demod.full(\"integW_sin\", iA, \"out1\"),\n",
    "                                                        demod.full(\"integW_cos\",iB,\"out2\"))\n",
    "                assign(Re, A + B)\n",
    "                assign(Im, iA - iB)\n",
    "                save(Re, Re_st)\n",
    "                save(Im, Im_st)\n",
    "            \n",
    "    with stream_processing():\n",
    "        Re_st.buffer(len(f_vec), len(a_vec)).average().save(\"Re\")\n",
    "        Im_st.buffer(len(f_vec), len(a_vec)).average().save(\"Im\")"
   ]
  },
  {
   "cell_type": "code",
   "execution_count": null,
   "metadata": {},
   "outputs": [],
   "source": [
    "job = qm.execute(res_spec, duration_limit=0, data_limit=0) "
   ]
  },
  {
   "cell_type": "code",
   "execution_count": null,
   "metadata": {},
   "outputs": [],
   "source": [
    "res_handles= job.result_handles\n",
    "res_handles.wait_for_all_values()"
   ]
  },
  {
   "cell_type": "markdown",
   "metadata": {},
   "source": [
    "# Fetch data and save to .dat"
   ]
  },
  {
   "cell_type": "code",
   "execution_count": null,
   "metadata": {},
   "outputs": [],
   "source": [
    "Re_handle = res_handles.get(\"Re\")\n",
    "Im_handle = res_handles.get(\"Im\")\n",
    "\n",
    "Re = Re_handle.fetch_all()\n",
    "Im = Im_handle.fetch_all()"
   ]
  },
  {
   "cell_type": "code",
   "execution_count": null,
   "metadata": {},
   "outputs": [],
   "source": [
    "prefix = 'S' #prefix for measurement folder name.  Can be anything or empty\n",
    "idstring = f'R1_Pow_Sweep'\n",
    "\n",
    "data_Re=Re_handle.fetch_all()\n",
    "data_Im=Im_handle.fetch_all()\n",
    "data_Sig=np.abs(data_Re + 1j*data_Im)\n",
    "data_Amp=20*(np.log10(np.abs(data_Sig)))\n",
    "data_Ph=np.unwrap(np.arctan(data_Im/data_Re))\n",
    "data=np.asarray([(RO_lo+(f_vec.reshape(len(f_vec),1)+a_vec)-a_vec).T,np.round(((a_vec.reshape(len(a_vec),1))+f_vec)-f_vec,3),data_Re.T,data_Im.T,data_Sig.T,data_Amp.T,data_Ph.T])\n",
    "\n",
    "for i,amps in enumerate(a_vec):\n",
    "    print(i,amps)\n",
    "    data_dict={'Frequency (Hz)':data[0][i],\n",
    "           'Resonator Pulse Amplitude':data[1][i],\n",
    "           'Real':data[2][i],\n",
    "           'Imaginary':data[3][i],\n",
    "           'Signal':data[4][i],\n",
    "           'Amplitude (dB)':data[5][i],\n",
    "           'Phase (rad)':data[6][i]\n",
    "    }\n",
    "    if i==0:    \n",
    "        old_stdout = sys.stdout\n",
    "        new_stdout = io.StringIO()\n",
    "        sys.stdout = new_stdout\n",
    "\n",
    "        myfile=stlab.newfile(prefix,idstring,data_dict.keys(),autoindex=True, git_id = False)\n",
    "        \n",
    "        output = new_stdout.getvalue()\n",
    "        sys.stdout = old_stdout\n",
    "        print(output)\n",
    "        M_ind = output.find(\"Measurement Name\")\n",
    "        M_name = output[M_ind+len('Measurement Name:  '):-1]\n",
    "    stlab.savedict(myfile,data_dict)\n",
    "    stlab.metagen.fromarrays(myfile,data_dict['Frequency (Hz)'],a_vec[0:i+1],xtitle='Frequency (Hz)',ytitle='Resonator Pulse Amplitude',colnames=list(data_dict))"
   ]
  },
  {
   "cell_type": "markdown",
   "metadata": {},
   "source": [
    "# Processing/Plotting"
   ]
  },
  {
   "cell_type": "code",
   "execution_count": null,
   "metadata": {},
   "outputs": [],
   "source": [
    "#Resonator LO power = -15 dBm\n",
    "\n",
    "sig = Re + 1j*Im\n",
    "\n",
    "power = 20*(np.log10(np.abs(sig)))#+10*np.log10(1000/50)#np.abs(sig)   #equation from wiki\n",
    "power2=power/np.mean(power,axis=0)                                    #norm lbl\n",
    "power3=scipy.ndimage.gaussian_filter((power/np.mean(power,axis=0)),[1,3]) #gaussian filtered norm lbl\n",
    "power4=power-np.mean(power,axis=0)                                    #sub lbl \n",
    "power5=scipy.ndimage.gaussian_filter(power,[1,3])-np.mean(power,axis=0)#gaussian filtered sub lbl\n",
    "power6=scipy.ndimage.gaussian_filter(power,[1,3]) #just gaussian filtered\n",
    "phase = np.unwrap(np.arctan(Im/Re))\n",
    "\n",
    "plt.figure(num=None, figsize=(8, 6), dpi=100)\n",
    "X, Y = np.meshgrid((RO_lo+f_vec)/1e9, a_vec)\n",
    "plt.contourf(X,Y, power.T,levels=100,norm=colors.PowerNorm(gamma=1.5),cmap='RdBu')\n",
    "plt.xlabel('Frequency (GHz)')\n",
    "plt.title('Resonator Power Spectroscopy, t_RO={}ns'.format(readout_len))\n",
    "#plt.xticks(X[0,0],X[0,-1])\n",
    "plt.ylabel('Pulse Amplitude')\n",
    "cbar = plt.colorbar()\n",
    "cbar.ax.get_yaxis().labelpad = 15\n",
    "cbar.ax.set_ylabel('Normalized Signal Amplitude', rotation=270)"
   ]
  },
  {
   "cell_type": "code",
   "execution_count": null,
   "metadata": {},
   "outputs": [],
   "source": [
    "print(a_vec[7])\n",
    "#plt.plot(RO_lo+f_vec,power[:,0])\n",
    "plt.plot(RO_lo+f_vec,power[:,7])\n",
    "#plt.plot(RO_lo+f_vec,power[:,-1])"
   ]
  },
  {
   "cell_type": "markdown",
   "metadata": {},
   "source": [
    "# Save this file and configuration file to measurement folder"
   ]
  },
  {
   "cell_type": "code",
   "execution_count": null,
   "metadata": {},
   "outputs": [],
   "source": [
    "#save notebook\n",
    "display(Javascript('IPython.notebook.save_checkpoint();'))"
   ]
  },
  {
   "cell_type": "code",
   "execution_count": null,
   "metadata": {},
   "outputs": [],
   "source": [
    "%%javascript\n",
    "IPython.notebook.kernel.execute('nb_name = \"' + IPython.notebook.notebook_name + '\"')"
   ]
  },
  {
   "cell_type": "code",
   "execution_count": null,
   "metadata": {},
   "outputs": [],
   "source": [
    "#define document paths\n",
    "meas_path = os.path.join(os.getcwd(),M_name)\n",
    "\n",
    "current_nb_path = os.path.join(os.getcwd(),nb_name)\n",
    "save_nb_path = os.path.join(meas_path,nb_name)\n",
    "\n",
    "current_config_path = os.path.join(os.getcwd(), 'Configuration_BMDevice.py')\n",
    "save_config_path = os.path.join(meas_path, 'Configuration_BMDevice.py')\n",
    "\n",
    "#copy to measurement folder \n",
    "copy2(current_nb_path,save_nb_path);\n",
    "copy2(current_config_path,save_config_path);"
   ]
  }
 ],
 "metadata": {
  "kernelspec": {
   "display_name": "Python 3",
   "language": "python",
   "name": "python3"
  },
  "language_info": {
   "codemirror_mode": {
    "name": "ipython",
    "version": 3
   },
   "file_extension": ".py",
   "mimetype": "text/x-python",
   "name": "python",
   "nbconvert_exporter": "python",
   "pygments_lexer": "ipython3",
   "version": "3.8.8"
  }
 },
 "nbformat": 4,
 "nbformat_minor": 4
}
