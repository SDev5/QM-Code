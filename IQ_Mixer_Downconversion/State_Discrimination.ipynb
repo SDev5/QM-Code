{
 "cells": [
  {
   "cell_type": "markdown",
   "metadata": {},
   "source": [
    "# Import modules"
   ]
  },
  {
   "cell_type": "code",
   "execution_count": null,
   "metadata": {},
   "outputs": [],
   "source": [
    "import stlab\n",
    "import matplotlib.pyplot as plt\n",
    "from matplotlib.gridspec import GridSpec\n",
    "import numpy as np\n",
    "import matplotlib.pyplot as plt\n",
    "import matplotlib.colors as colors\n",
    "import scipy\n",
    "from scipy.optimize import *\n",
    "import time\n",
    "import sys \n",
    "import io\n",
    "import os\n",
    "from IPython.display import display, Javascript\n",
    "from shutil import *\n",
    "from stlab.devices.RS_SGS100A import RS_SGS100A\n",
    "from stlab.devices.Keysight_N5183B import Keysight_N5183B\n",
    "\n",
    "from qm.QuantumMachinesManager import QuantumMachinesManager\n",
    "from qm.qua import *\n",
    "from qm import SimulationConfig\n",
    "from Configuration_BMDevice import config, RR_1_IF,RO_lo, readout_len, Q1_lo, Q1_IF, sat_Q1_len, gauss_len, R1_RS, Q1_RS\n",
    "print(readout_len)"
   ]
  },
  {
   "cell_type": "markdown",
   "metadata": {},
   "source": [
    "# Edit configuration parameters"
   ]
  },
  {
   "cell_type": "markdown",
   "metadata": {},
   "source": [
    "**To do**"
   ]
  },
  {
   "cell_type": "markdown",
   "metadata": {},
   "source": [
    "# Define microwave sources"
   ]
  },
  {
   "cell_type": "code",
   "execution_count": null,
   "metadata": {},
   "outputs": [],
   "source": [
    "RR = RS_SGS100A(\"TCPIP::169.254.2.20::INSTR\", reset=True,verb=True) \n",
    "RR.EXTref()\n",
    "RR.RFon()\n",
    "RR.setCWpower(-15)\n",
    "RR.setCWfrequency(RO_lo)\n",
    "RR.write(':SOURce:IQ:IMPairment:LEAKage:I ' + R1_RS[0])\n",
    "RR.write('SOURce:IQ:IMPairment:LEAKage:Q ' + R1_RS[1])\n",
    "RR.write(':SOURce:IQ:IMPairment:IQRatio:MAGNitude ' + R1_RS[2])\n",
    "RR.write(':SOURce:IQ:IMPairment:QUADrature:ANGLe ' + R1_RS[3])\n",
    "RR.IQon()\n",
    "RR.write(':SOURce:IQ:IMPairment:STATe ON')\n",
    "\n",
    "#LO for downconversion\n",
    "MXG = Keysight_N5183B(addr='TCPIP::192.168.1.91::INSTR',reset=True,verb=True)\n",
    "MXG.RFon()\n",
    "MXG.setCWpower(19)\n",
    "MXG.setCWfrequency(RO_lo)\n",
    "MXG.INTref()\n",
    "\n",
    "QDrive = RS_SGS100A(\"TCPIP::169.254.50.124::INSTR\", reset=True,verb=True) \n",
    "QDrive.EXTref()\n",
    "QDrive.RFon()\n",
    "QDrive.setCWpower(2.5)\n",
    "QDrive.setCWfrequency(Q1_lo)\n",
    "QDrive.write(':SOURce:IQ:IMPairment:LEAKage:I ' + Q1_RS[0])\n",
    "QDrive.write('SOURce:IQ:IMPairment:LEAKage:Q ' + Q1_RS[1])\n",
    "QDrive.write(':SOURce:IQ:IMPairment:IQRatio:MAGNitude ' + Q1_RS[2])\n",
    "QDrive.write(':SOURce:IQ:IMPairment:QUADrature:ANGLe ' + Q1_RS[3])\n",
    "QDrive.IQon()\n",
    "QDrive.write(':SOURce:IQ:IMPairment:STATe ON')"
   ]
  },
  {
   "cell_type": "markdown",
   "metadata": {},
   "source": [
    "# Configure QM unit"
   ]
  },
  {
   "cell_type": "code",
   "execution_count": null,
   "metadata": {},
   "outputs": [],
   "source": [
    "qmm = QuantumMachinesManager()\n",
    "qm = qmm.open_qm(config)"
   ]
  },
  {
   "cell_type": "markdown",
   "metadata": {},
   "source": [
    "# QUA Program"
   ]
  },
  {
   "cell_type": "code",
   "execution_count": null,
   "metadata": {},
   "outputs": [],
   "source": [
    "def State_Discrimination(n_max, a_vec, b, meas_max): \n",
    "  \n",
    "    with program() as state_discrimination:\n",
    "        ##############################\n",
    "        # declare real-time variables:\n",
    "        ##############################\n",
    "\n",
    "        n = declare(int)\n",
    "        meas_n = declare(int)\n",
    "        a = declare(fixed)\n",
    "\n",
    "        A = declare(fixed)\n",
    "        B = declare(fixed)\n",
    "        iA = declare(fixed)\n",
    "        iB = declare(fixed)\n",
    "        Re = declare(fixed)\n",
    "        Im = declare(fixed)\n",
    "\n",
    "        Re_st = declare_stream()\n",
    "        Im_st = declare_stream()\n",
    "\n",
    "        with for_(meas_n, 0, meas_n < meas_max, meas_n+1):\n",
    "            with for_(n, 0, n < n_max, n + 1):\n",
    "                with for_each_(a, a_vec):\n",
    "\n",
    "                    wait(int(2500/4),\"RR_1\",\"Q1\")\n",
    "                    play(\"pi\"*amp(a), \"Q1\", duration = 14)\n",
    "                    #wait(tau, \"Q1\", \"RR_1\") \n",
    "                    align(\"Q1\", \"RR_1\")\n",
    "                    measure(\"readout\"*amp(b), \"RR_1\", None, demod.full(\"integW_cos\", A, \"out1\"),\n",
    "                                                                demod.full(\"integW_sin\",B,\"out2\"),\n",
    "                                                                demod.full(\"integW_sin\", iA, \"out1\"),\n",
    "                                                                demod.full(\"integW_cos\",iB,\"out2\"))\n",
    "\n",
    "                    assign(Re, A + B)       \n",
    "                    assign(Im, iA - iB)\n",
    "                    save(Re, Re_st)\n",
    "                    save(Im, Im_st)              \n",
    "\n",
    "        with stream_processing():\n",
    "            Re_st.buffer(meas_max,n_max, 2).map(FUNCTIONS.average(1)).save(\"Re\")\n",
    "            Im_st.buffer(meas_max,n_max, 2).map(FUNCTIONS.average(1)).save(\"Im\")\n",
    "\n",
    "    job = qm.execute(state_discrimination, duration_limit=0, data_limit=0)\n",
    "\n",
    "    res_handles= job.result_handles\n",
    "    res_handles.wait_for_all_values()\n",
    "\n",
    "    Re_handle = res_handles.get(\"Re\")\n",
    "    Im_handle = res_handles.get(\"Im\")\n",
    "\n",
    "    Re_s = Re_handle.fetch_all()\n",
    "    Im_s = Im_handle.fetch_all()\n",
    "\n",
    "    return Re_s, Im_s"
   ]
  },
  {
   "cell_type": "markdown",
   "metadata": {},
   "source": [
    "# Define Parameters"
   ]
  },
  {
   "cell_type": "code",
   "execution_count": null,
   "metadata": {},
   "outputs": [],
   "source": [
    "n_max = 500\n",
    "meas_max = 10000\n",
    "\n",
    "a_vec = [0,1.4]\n",
    "\n",
    "#Readout pulse amplitude\n",
    "b = 0.24"
   ]
  },
  {
   "cell_type": "code",
   "execution_count": null,
   "metadata": {
    "scrolled": true
   },
   "outputs": [],
   "source": [
    "Re, Im = State_Discrimination(n_max, a_vec, b, meas_max)"
   ]
  },
  {
   "cell_type": "markdown",
   "metadata": {},
   "source": [
    "# Fetch data and save to .dat"
   ]
  },
  {
   "cell_type": "code",
   "execution_count": null,
   "metadata": {},
   "outputs": [],
   "source": [
    "prefix = 'S' #prefix for measurement folder name.  Can be anything or empty\n",
    "idstring = f'Q1_State_Discrimination'\n",
    "\n",
    "data_Re = Re\n",
    "data_Im = Im\n",
    "\n",
    "data = np.asarray([(np.array(a_vec)).reshape(len(a_vec),1)+Re-Re,data_Re,data_Im])\n",
    "\n",
    "for i,amps in enumerate(a_vec):\n",
    "    print(i,amps)\n",
    "    data_dict={'Qubit Pulse Amplitude':data[0][i],\n",
    "           'Real':data[1][i],\n",
    "           'Imaginary':data[2][i],\n",
    "              }\n",
    "           \n",
    "    if i==0:\n",
    "        old_stdout = sys.stdout\n",
    "        new_stdout = io.StringIO()\n",
    "        sys.stdout = new_stdout\n",
    "        \n",
    "        myfile=stlab.newfile(prefix,idstring,data_dict.keys(),autoindex=True)\n",
    "        \n",
    "        output = new_stdout.getvalue()\n",
    "        sys.stdout = old_stdout\n",
    "        print(output)\n",
    "        M_ind = output.find(\"Measurement Name\")\n",
    "        M_name = output[M_ind+len('Measurement Name:  '):-1]\n",
    "    stlab.savedict(myfile,data_dict)\n",
    "    stlab.metagen.fromarrays(myfile,(np.array(a_vec))[0:i+1],[0,0],xtitle='Qubit Pulse Amplitude',ytitle='Nothing',colnames=list(data_dict))"
   ]
  },
  {
   "cell_type": "markdown",
   "metadata": {},
   "source": [
    "# Processing/Plotting"
   ]
  },
  {
   "cell_type": "code",
   "execution_count": null,
   "metadata": {},
   "outputs": [],
   "source": [
    "plt.figure(figsize=(8,6),dpi = 100)\n",
    "plt.scatter(Re[0,:],Im[0,:],label = 'g', s=1)\n",
    "plt.scatter(Re[1,:],Im[1,:],label = 'e',s =1)\n",
    "plt.axhline(0,ls='--', c= 'black')\n",
    "plt.axvline(0,ls='--', c= 'black')\n",
    "plt.xlabel('I', fontsize = 14)\n",
    "plt.ylabel('Q', fontsize = 14)\n",
    "plt.xticks(fontsize=14); plt.yticks(fontsize=14);\n",
    "\n",
    "g_max = np.max(np.abs(Re[0,:]+1j*Im[0,:]))\n",
    "e_min = np.min(np.abs(Re[1,:]+1j*Im[1,:]))\n",
    "th = (g_max+e_min)/2\n",
    "#print(th)\n",
    "\n",
    "s = np.linspace(0,2*np.pi,300)\n",
    "c_th = th*np.exp(1j*s)\n",
    "plt.plot(np.real(c_th),np.imag(c_th), ls ='-.', color ='red', label = 'threshold');\n",
    "plt.axis('equal');\n",
    "plt.legend(fontsize=14, loc = 'best');"
   ]
  },
  {
   "cell_type": "markdown",
   "metadata": {},
   "source": [
    "# Save this file and configuration file to measurement folder"
   ]
  },
  {
   "cell_type": "code",
   "execution_count": null,
   "metadata": {},
   "outputs": [],
   "source": [
    "#save notebook\n",
    "display(Javascript('IPython.notebook.save_checkpoint();'))"
   ]
  },
  {
   "cell_type": "code",
   "execution_count": null,
   "metadata": {},
   "outputs": [],
   "source": [
    "%%javascript\n",
    "IPython.notebook.kernel.execute('nb_name = \"' + IPython.notebook.notebook_name + '\"')"
   ]
  },
  {
   "cell_type": "code",
   "execution_count": null,
   "metadata": {},
   "outputs": [],
   "source": [
    "#define document paths\n",
    "meas_path = os.path.join(os.getcwd(),M_name)\n",
    "\n",
    "current_nb_path = os.path.join(os.getcwd(),nb_name)\n",
    "save_nb_path = os.path.join(meas_path,nb_name)\n",
    "\n",
    "current_config_path = os.path.join(os.getcwd(), 'Configuration_BMDevice.py')\n",
    "save_config_path = os.path.join(meas_path, 'Configuration_BMDevice.py')\n",
    "\n",
    "#copy to measurement folder \n",
    "copy2(current_nb_path,save_nb_path);\n",
    "copy2(current_config_path,save_config_path);"
   ]
  },
  {
   "cell_type": "markdown",
   "metadata": {},
   "source": [
    "#### Some plotting code that might be useful "
   ]
  },
  {
   "cell_type": "code",
   "execution_count": null,
   "metadata": {},
   "outputs": [],
   "source": [
    "fig = plt.figure(figsize=(14,14),dpi=100) #,constrained_layout=True)\n",
    "gs = GridSpec(3, 3, figure=fig)\n",
    "ax1 = fig.add_subplot(gs[0:2,0:2])\n",
    "ax2 = fig.add_subplot(gs[2,0:2])\n",
    "ax3 = fig.add_subplot(gs[:2,2])\n",
    "\n",
    "\n",
    "#.axhline(0,ls='-', c= 'black',lw=0.5)\n",
    "#plt.axvline(0,ls='-', c= 'black',lw=0.5)\n",
    "ax1.scatter(Re,Im,label = 'g', s = 1,alpha=1)\n",
    "ax1.scatter(Re1,Im1, label = 'e', s= 1,alpha=1)\n",
    "ax1.set_xlabel('I', fontsize = 12)\n",
    "ax1.set_ylabel('Q', fontsize = 12)\n",
    "ax1.tick_params(labelsize = 12)\n",
    "ax1.legend(fontsize = 14)\n",
    "\n",
    "ax2.hist(Re,bins=100,histtype = 'step', label = 'g');\n",
    "ax2.hist(Re1,bins=100,histtype = 'step',label = 'e');\n",
    "ax2.legend(fontsize = 14)\n",
    "\n",
    "ax3.hist(Im,bins=100,histtype = 'step', orientation ='horizontal', label = 'g');\n",
    "ax3.hist(Im1,bins=100,histtype = 'step', orientation = 'horizontal', label = 'e');\n",
    "ax3.legend(fontsize = 14)\n",
    "\n",
    "#print(np.abs(Re+1j*Im))\n",
    "#print(np.abs(Re1+1j*Im1))"
   ]
  }
 ],
 "metadata": {
  "kernelspec": {
   "display_name": "Python 3",
   "language": "python",
   "name": "python3"
  },
  "language_info": {
   "codemirror_mode": {
    "name": "ipython",
    "version": 3
   },
   "file_extension": ".py",
   "mimetype": "text/x-python",
   "name": "python",
   "nbconvert_exporter": "python",
   "pygments_lexer": "ipython3",
   "version": "3.8.8"
  }
 },
 "nbformat": 4,
 "nbformat_minor": 4
}
