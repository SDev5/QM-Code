{
 "cells": [
  {
   "cell_type": "markdown",
   "metadata": {},
   "source": [
    "# Import modules"
   ]
  },
  {
   "cell_type": "code",
   "execution_count": null,
   "metadata": {},
   "outputs": [],
   "source": [
    "import stlab\n",
    "import matplotlib.pyplot as plt\n",
    "from matplotlib.gridspec import GridSpec\n",
    "import numpy as np\n",
    "import matplotlib.pyplot as plt\n",
    "import matplotlib.colors as colors\n",
    "import scipy\n",
    "from scipy.optimize import *\n",
    "import time\n",
    "import sys \n",
    "import io\n",
    "import os\n",
    "from IPython.display import display, Javascript\n",
    "from shutil import *\n",
    "from stlab.devices.RS_SGS100A import RS_SGS100A\n",
    "from stlab.devices.Keysight_N5183B import Keysight_N5183B\n",
    "\n",
    "from qm.QuantumMachinesManager import QuantumMachinesManager\n",
    "from qm.qua import *\n",
    "from qm import SimulationConfig\n",
    "from Configuration_BMDevice import config, RR_1_IF,RO_lo, readout_len, Q1_lo, Q1_IF, sat_Q1_len, gauss_len, R1_RS, Q1_RS, Q1_pi_len\n",
    "print(readout_len)\n",
    "print(Q1_pi_len)"
   ]
  },
  {
   "cell_type": "markdown",
   "metadata": {},
   "source": [
    "# Edit configuration parameters"
   ]
  },
  {
   "cell_type": "markdown",
   "metadata": {},
   "source": [
    "**To do**"
   ]
  },
  {
   "cell_type": "markdown",
   "metadata": {},
   "source": [
    "# Define microwave sources"
   ]
  },
  {
   "cell_type": "code",
   "execution_count": null,
   "metadata": {},
   "outputs": [],
   "source": [
    "RR = RS_SGS100A(\"TCPIP::169.254.184.193::INSTR\", reset=True,verb=True) \n",
    "RR.EXTref()\n",
    "RR.RFon()\n",
    "RR.setCWpower(-15)\n",
    "RR.setCWfrequency(RO_lo)\n",
    "RR.write(':SOURce:IQ:IMPairment:LEAKage:I ' + R1_RS[0])\n",
    "RR.write('SOURce:IQ:IMPairment:LEAKage:Q ' + R1_RS[1])\n",
    "RR.write(':SOURce:IQ:IMPairment:IQRatio:MAGNitude ' + R1_RS[2])\n",
    "RR.write(':SOURce:IQ:IMPairment:QUADrature:ANGLe ' + R1_RS[3])\n",
    "RR.IQon()\n",
    "RR.write(':SOURce:IQ:IMPairment:STATe ON')\n",
    "\n",
    "#LO for downconversion\n",
    "MXG = Keysight_N5183B(addr='TCPIP::192.168.1.91::INSTR',reset=True,verb=True)\n",
    "MXG.RFon()\n",
    "MXG.setCWpower(19)\n",
    "MXG.setCWfrequency(RO_lo)\n",
    "MXG.INTref()\n",
    "\n",
    "QDrive = RS_SGS100A(\"TCPIP::169.254.50.124::INSTR\", reset=True,verb=True) \n",
    "QDrive.EXTref()\n",
    "QDrive.RFon()\n",
    "QDrive.setCWpower(-35)\n",
    "QDrive.setCWfrequency(Q1_lo)\n",
    "QDrive.write(':SOURce:IQ:IMPairment:LEAKage:I ' + Q1_RS[0])\n",
    "QDrive.write('SOURce:IQ:IMPairment:LEAKage:Q ' + Q1_RS[1])\n",
    "QDrive.write(':SOURce:IQ:IMPairment:IQRatio:MAGNitude ' + Q1_RS[2])\n",
    "QDrive.write(':SOURce:IQ:IMPairment:QUADrature:ANGLe ' + Q1_RS[3])\n",
    "QDrive.IQon()\n",
    "QDrive.write(':SOURce:IQ:IMPairment:STATe ON')"
   ]
  },
  {
   "cell_type": "markdown",
   "metadata": {},
   "source": [
    "# Configure QM unit"
   ]
  },
  {
   "cell_type": "code",
   "execution_count": null,
   "metadata": {},
   "outputs": [],
   "source": [
    "qmm = QuantumMachinesManager()\n",
    "qm = qmm.open_qm(config)"
   ]
  },
  {
   "cell_type": "markdown",
   "metadata": {},
   "source": [
    "# QUA Program"
   ]
  },
  {
   "cell_type": "code",
   "execution_count": null,
   "metadata": {},
   "outputs": [],
   "source": [
    "def T1(f, n_max, meas_max, tau_vec, a_vec, b, QLO_Power):\n",
    "    QDrive.setCWpower(QLO_Power)\n",
    "    \n",
    "    tau_min = np.min(tau_vec)\n",
    "    tau_max = np.max(tau_vec)\n",
    "    dtau = tau_vec[1]-tau_vec[0]\n",
    "    \n",
    "    with program() as T1:\n",
    "        ##############################\n",
    "        # declare real-time variables:\n",
    "        ##############################\n",
    "\n",
    "        n = declare(int)\n",
    "        meas_n = declare(int)\n",
    "        tau = declare(int)\n",
    "        a = declare(fixed)\n",
    "\n",
    "        A = declare(fixed)\n",
    "        B = declare(fixed)\n",
    "        iA = declare(fixed)\n",
    "        iB = declare(fixed)\n",
    "        Re = declare(fixed)\n",
    "        Im = declare(fixed)\n",
    "\n",
    "        Re_st = declare_stream()\n",
    "        Im_st = declare_stream()\n",
    "        \n",
    "        update_frequency(\"Q1\", f)\n",
    "        with for_(tau, tau_min, tau <= tau_max, tau+dtau): \n",
    "            with for_(meas_n, 0, meas_n < meas_max, meas_n+1):\n",
    "                with for_(n, 0, n < n_max, n + 1):\n",
    "                    with for_each_(a, a_vec):\n",
    "                        \n",
    "                        wait(int(5000/4),\"RR_1\",\"Q1\")    \n",
    "                        with if_(tau < 4):\n",
    "                            play(\"pi\"*amp(a),\"Q1\")  \n",
    "                            align(\"Q1\",\"RR_1\")\n",
    "                            measure(\"readout\"*amp(b), \"RR_1\", None, demod.full(\"integW_cos\", A, \"out1\"),\n",
    "                                                                            demod.full(\"integW_sin\",B,\"out2\"),\n",
    "                                                                            demod.full(\"integW_sin\", iA, \"out1\"),\n",
    "                                                                            demod.full(\"integW_cos\",iB,\"out2\"))\n",
    "                        with else_(): \n",
    "                            play(\"pi\"*amp(a), \"Q1\")\n",
    "                            wait(tau, \"Q1\", \"RR_1\")                    \n",
    "                            align(\"Q1\", \"RR_1\")     \n",
    "                            measure(\"readout\"*amp(b), \"RR_1\", None, demod.full(\"integW_cos\", A, \"out1\"),\n",
    "                                                                            demod.full(\"integW_sin\",B,\"out2\"),\n",
    "                                                                            demod.full(\"integW_sin\", iA, \"out1\"),\n",
    "                                                                            demod.full(\"integW_cos\",iB,\"out2\"))\n",
    "                        assign(Re, A + B)       \n",
    "                        assign(Im, iA - iB)\n",
    "                        save(Re, Re_st)\n",
    "                        save(Im, Im_st)  \n",
    "\n",
    "        with stream_processing():\n",
    "            Re_st.buffer(len(tau_vec),meas_max,n_max,2).map(FUNCTIONS.average(2)).save(\"Re\")\n",
    "            Im_st.buffer(len(tau_vec),meas_max,n_max,2).map(FUNCTIONS.average(2)).save(\"Im\")\n",
    "\n",
    "    job = qm.execute(T1, duration_limit=0, data_limit=0)\n",
    "\n",
    "    res_handles= job.result_handles\n",
    "    res_handles.wait_for_all_values()\n",
    "\n",
    "    Re_handle = res_handles.get(\"Re\")\n",
    "    Im_handle = res_handles.get(\"Im\")\n",
    "\n",
    "    Re_s = Re_handle.fetch_all()\n",
    "    Im_s = Im_handle.fetch_all()\n",
    "\n",
    "    return Re_s, Im_s"
   ]
  },
  {
   "cell_type": "markdown",
   "metadata": {},
   "source": [
    "# Define Parameters"
   ]
  },
  {
   "cell_type": "code",
   "execution_count": null,
   "metadata": {},
   "outputs": [],
   "source": [
    "#Averaging\n",
    "n_max = 4000\n",
    "\n",
    "#Number of measurements at each tau\n",
    "meas_max = 400 \n",
    "\n",
    "#Wait time in units of clock cycles (4ns)\n",
    "tau_min = 2 \n",
    "tau_max = 2000 \n",
    "dtau = 100 \n",
    "tau_vec = np.arange(tau_min,tau_max+dtau/2,dtau)\n",
    " \n",
    "print(tau_vec)\n",
    "print(len(tau_vec))\n",
    "\n",
    "#Qubit pulse amplitude\n",
    "a_vec = [0,1.0]\n",
    "\n",
    "#Readout pulse amplitude\n",
    "b = 0.24\n",
    "\n",
    "#Qubit pulse frequency\n",
    "f_q = 5.86544e9\n",
    "qd_IF = int(f_q - Q1_lo)\n",
    "print(qd_IF/1e6)\n",
    "\n",
    "#Qubit Pulse Power\n",
    "QLO_Power = 0"
   ]
  },
  {
   "cell_type": "code",
   "execution_count": null,
   "metadata": {
    "scrolled": true
   },
   "outputs": [],
   "source": [
    "Re, Im = T1(qd_IF, n_max, meas_max, tau_vec, a_vec, b, QLO_Power)"
   ]
  },
  {
   "cell_type": "markdown",
   "metadata": {},
   "source": [
    "# Fetch data and save to .dat"
   ]
  },
  {
   "cell_type": "code",
   "execution_count": null,
   "metadata": {},
   "outputs": [],
   "source": [
    "prefix = 'S' #prefix for measurement folder name.  Can be anything or empty\n",
    "idstring = f'Q1_T1'\n",
    "\n",
    "meas = np.arange(meas_max)\n",
    "a = np.repeat(np.array(a_vec)[:,np.newaxis],meas_max,axis=1)\n",
    "a_arr = np.swapaxes(np.repeat(a[:,:,np.newaxis],len(tau_vec),axis=2),0,2)\n",
    "tau_arr = ((tau_vec.reshape(len(tau_vec),1)+meas)-meas)\n",
    "tau_arrf = np.repeat(tau_arr[:,:,np.newaxis],np.shape(a_vec)[0],axis=2)\n",
    "\n",
    "data_Re = Re\n",
    "data_Im = Im\n",
    "\n",
    "data = np.asarray([tau_arrf,a_arr, data_Re,data_Im])\n",
    "\n",
    "for i,amps in enumerate(meas):\n",
    "    print(i,amps)\n",
    "    for j,wt in enumerate(tau_vec):\n",
    "        print(j,wt)\n",
    "        data_dict={'Wait time (ns)':data[0][j][i]*4,\n",
    "                   'Qubit Pulse Amplitude': data[1][j][i],\n",
    "                   'Real':data[2][j][i],\n",
    "                   'Imaginary':data[3][j][i],\n",
    "                  }\n",
    "\n",
    "        if (i==0 and j==0):\n",
    "            old_stdout = sys.stdout\n",
    "            new_stdout = io.StringIO()\n",
    "            sys.stdout = new_stdout\n",
    "\n",
    "            myfile=stlab.newfile(prefix,idstring,data_dict.keys(),autoindex=True, git_id = False)\n",
    "\n",
    "            output = new_stdout.getvalue()\n",
    "            sys.stdout = old_stdout\n",
    "            print(output)\n",
    "            M_ind = output.find(\"Measurement Name\")\n",
    "            M_name = output[M_ind+len('Measurement Name:  '):-1]\n",
    "        stlab.savedict(myfile,data_dict)\n",
    "        stlab.metagen.fromarrays(myfile,tau_vec[0:i+1]*4,(np.array(a_vec))[0:i+1],[0,0],xtitle='Wait time (ns)',ytitle='Qubit Pulse Amplitude',colnames=list(data_dict))"
   ]
  },
  {
   "cell_type": "markdown",
   "metadata": {},
   "source": [
    "# Processing/Plotting"
   ]
  },
  {
   "cell_type": "code",
   "execution_count": null,
   "metadata": {
    "scrolled": true
   },
   "outputs": [],
   "source": [
    "def s_std(dI,std_dI,dQ,std_dQ):\n",
    "    return np.sqrt((dI**2*std_dI**2+dQ**2*std_dQ**2)/(dI**2+dQ**2))\n",
    "\n",
    "def Contrast(Re,Im):\n",
    "    sg = [Re[:,:,0],Im[:,:,0]]\n",
    "    se = [Re[:,:,1],Im[:,:,1]]\n",
    "\n",
    "    sg_mean = np.mean(sg,axis=2)\n",
    "    sg_std = np.std(sg,axis=2)/np.sqrt(meas_max)\n",
    "\n",
    "    se_mean = np.mean(se,axis=2)\n",
    "    se_std = np.std(se,axis=2)/np.sqrt(meas_max)\n",
    "\n",
    "    dI = se_mean[0]-sg_mean[0]\n",
    "    dQ = se_mean[1]-sg_mean[1]\n",
    "\n",
    "    std_dI = np.sqrt(se_std[0]**2+sg_std[0]**2)\n",
    "    std_dQ = np.sqrt(se_std[1]**2+sg_std[1]**2)\n",
    "\n",
    "    s_a = np.sqrt(dI**2+dQ**2)\n",
    "    s_a_std = s_std(dI,std_dI,dQ,std_dQ)\n",
    "\n",
    "    C = s_a/s_a[0]\n",
    "    std_C = C*np.sqrt((s_a_std[:]/s_a[:])**2+(s_a_std[0]/s_a[0])**2)\n",
    "    \n",
    "    return C, std_C\n",
    "\n",
    "C, std_C = Contrast(Re,Im)"
   ]
  },
  {
   "cell_type": "code",
   "execution_count": null,
   "metadata": {
    "scrolled": false
   },
   "outputs": [],
   "source": [
    "#plt.plot(tau_vec*4,C)\n",
    "tau_vec[0] = 0 \n",
    "\n",
    "def P1_func(tau,T1):\n",
    "    return np.exp(-tau/T1)           \n",
    "\n",
    "popt, pcov = curve_fit(P1_func, tau_vec*4, C,sigma=std_C, p0 = [800])\n",
    "\n",
    "plt.figure(figsize = (8,6), dpi = 100)\n",
    "\n",
    "tau_fit = np.linspace(0,8000,1600)\n",
    "plt.title('T1, Q_t = {} ns, Q_amp={}, t_RO={}ns, R_amp = {}, Qfreq  = {} GHz, QLO_Power = {} dBm'.format(Q1_pi_len, a_vec[1],readout_len,b, f_q/1e9,QLO_Power)) \n",
    "plt.plot(tau_fit,P1_func(tau_fit,popt[0]), label = f'fit, T1 = {np.round(popt[0],1)} $\\pm$ {np.round(np.sqrt(np.diag(pcov))[0],0)} ns')\n",
    "plt.errorbar(tau_vec*4,C, std_C,color = 'orange',capsize = 5,marker = 'o',ls='',alpha = 0.75)\n",
    "plt.xlabel(r' $\\tau$ (ns)', fontsize = 16)\n",
    "plt.ylabel(r'$C$', fontsize = 16)\n",
    "plt.xticks(fontsize = 14); plt.yticks(fontsize = 14);\n",
    "plt.legend(fontsize = 14)\n",
    "plt.axhline(0,ls='--', color ='black')\n",
    "\n",
    "print(f'T1 = {popt[0]} ns')\n",
    "print(np.sqrt(np.diag(pcov))[0])"
   ]
  },
  {
   "cell_type": "code",
   "execution_count": null,
   "metadata": {},
   "outputs": [],
   "source": [
    "plt.figure(figsize=(8,6),dpi=100)\n",
    "plt.scatter(Re[0,:,0],Im[0,:,0], s = 1)\n",
    "plt.scatter(Re[0,:,1],Im[0,:,1], s = 1)\n",
    "\n",
    "plt.scatter(Re[4,:,0],Im[4,:,0], s = 1)\n",
    "plt.scatter(Re[4,:,1],Im[4,:,1], s = 1)\n",
    "\n",
    "plt.scatter(Re[17,:,0],Im[17,:,0], s = 1)\n",
    "plt.scatter(Re[17,:,1],Im[17,:,1], s = 1)\n",
    "plt.axhline(0, c='black', ls = '--')\n",
    "plt.axvline(0, c='black', ls = '--')"
   ]
  },
  {
   "cell_type": "markdown",
   "metadata": {},
   "source": [
    "# Save this file and configuration file to measurement folder"
   ]
  },
  {
   "cell_type": "code",
   "execution_count": null,
   "metadata": {},
   "outputs": [],
   "source": [
    "#save notebook\n",
    "display(Javascript('IPython.notebook.save_checkpoint();'))"
   ]
  },
  {
   "cell_type": "code",
   "execution_count": null,
   "metadata": {},
   "outputs": [],
   "source": [
    "%%javascript\n",
    "IPython.notebook.kernel.execute('nb_name = \"' + IPython.notebook.notebook_name + '\"')"
   ]
  },
  {
   "cell_type": "code",
   "execution_count": null,
   "metadata": {},
   "outputs": [],
   "source": [
    "#define document paths\n",
    "meas_path = os.path.join(os.getcwd(),M_name)\n",
    "\n",
    "current_nb_path = os.path.join(os.getcwd(),nb_name)\n",
    "save_nb_path = os.path.join(meas_path,nb_name)\n",
    "\n",
    "current_config_path = os.path.join(os.getcwd(), 'Configuration_BMDevice.py')\n",
    "save_config_path = os.path.join(meas_path, 'Configuration_BMDevice.py')\n",
    "\n",
    "#copy to measurement folder \n",
    "copy2(current_nb_path,save_nb_path);\n",
    "copy2(current_config_path,save_config_path);"
   ]
  },
  {
   "cell_type": "markdown",
   "metadata": {},
   "source": [
    "#### Simulation"
   ]
  },
  {
   "cell_type": "code",
   "execution_count": null,
   "metadata": {},
   "outputs": [],
   "source": [
    "a1 = 0.5 #1.55\n",
    "b = 0.24\n",
    "\n",
    "with program() as sim_prog:\n",
    "    a = declare(fixed)\n",
    "    x = declare(int)\n",
    "    tau = declare(int)\n",
    "    \n",
    "    assign(tau,10)\n",
    "    assign(a, a1)\n",
    "    \n",
    "    with if_(tau < 4):\n",
    "        play(\"pi\"*amp(a),\"Q1\")  \n",
    "        align(\"Q1\",\"RR_1\")\n",
    "        measure(\"readout\"*amp(b), \"RR_1\", \"raw_adc\")\n",
    "    with else_(): \n",
    "        play(\"pi\"*amp(a), \"Q1\")\n",
    "        wait(tau, \"Q1\", \"RR_1\")                    \n",
    "        align(\"Q1\", \"RR_1\")     \n",
    "        measure(\"readout\"*amp(b), \"RR_1\", \"raw_adc\")\n",
    "\n",
    "#    align(\"Q1\", \"RR_1\")\n",
    "#    measure(\"readout\"*amp(b), \"RR_1\", \"raw_adc\")\n",
    "        \n",
    "\n",
    "# In the OPX, the analog signal starts 184 after the play command. In order to simulate it, we added the same latency\n",
    "# here, and this is the time_of_flight in the configuration file\n",
    "job = qmm.simulate(config,\n",
    "    sim_prog,\n",
    "    SimulationConfig(\n",
    "        500,\n",
    "        include_analog_waveforms=True,\n",
    "    ),latency=184\n",
    ")\n",
    "\n",
    "# get DAC and digital samples\n",
    "samples = job.get_simulated_samples()\n",
    "print(job.simulated_analog_waveforms())\n",
    "\n",
    "# plot all ports:\n",
    "plt.figure(figsize = (8,6),dpi=100)\n",
    "plt.plot(samples.con1.analog[\"1\"], label = 'Readout Pulse')\n",
    "plt.plot(samples.con1.analog[\"3\"],alpha = 1, label = 'Qubit Pulse')\n",
    "plt.legend(\"analog 1\")\n",
    "plt.xlabel(\"Time [ns]\")\n",
    "plt.ylabel(\"Signal [V]\")\n",
    "plt.xlim(200,750)\n",
    "plt.axvline(272, ls = '--', lw = 1, c ='black')\n",
    "plt.axvline(368, ls = '--', lw = 1, c ='black')\n",
    "plt.axvline(408, ls = '--', lw = 1, c ='black')\n",
    "plt.legend()\n",
    "\n",
    "# samples = job.get_simulated_samples()\n",
    "# res = job.result_handles\n",
    "# raw_adc = res.raw_adc_input1.fetch_all()[\"value\"]\n",
    "\n",
    "# ax1 = plt.subplot(211)\n",
    "# plt.plot(samples.con1.analog[\"1\"])\n",
    "# plt.title(\"Simulated samples\")\n",
    "# plt.subplot(212, sharex=ax1)\n",
    "# plt.plot(raw_adc / 2 ** 12)  # Converting the 12 bit ADC value to voltage\n",
    "# plt.title(\"Raw ADC input\")\n",
    "# plt.xlabel(\"Sample number\")\n",
    "# plt.tight_layout()\n",
    "# plt.show()"
   ]
  }
 ],
 "metadata": {
  "kernelspec": {
   "display_name": "Python 3",
   "language": "python",
   "name": "python3"
  },
  "language_info": {
   "codemirror_mode": {
    "name": "ipython",
    "version": 3
   },
   "file_extension": ".py",
   "mimetype": "text/x-python",
   "name": "python",
   "nbconvert_exporter": "python",
   "pygments_lexer": "ipython3",
   "version": "3.8.8"
  }
 },
 "nbformat": 4,
 "nbformat_minor": 4
}
