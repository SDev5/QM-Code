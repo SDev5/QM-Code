{
 "cells": [
  {
   "cell_type": "markdown",
   "metadata": {},
   "source": [
    "# Import modules"
   ]
  },
  {
   "cell_type": "code",
   "execution_count": null,
   "metadata": {},
   "outputs": [],
   "source": [
    "import stlab\n",
    "import matplotlib.pyplot as plt\n",
    "import numpy as np\n",
    "import matplotlib.pyplot as plt\n",
    "import matplotlib.colors as colors\n",
    "import scipy\n",
    "from scipy.optimize import *\n",
    "import time\n",
    "import sys \n",
    "import io\n",
    "import os\n",
    "from IPython.display import display, Javascript\n",
    "from shutil import *\n",
    "from stlab.devices.RS_SGS100A import RS_SGS100A\n",
    "from stlab.devices.Keysight_N5183B import Keysight_N5183B\n",
    "\n",
    "from qm.QuantumMachinesManager import QuantumMachinesManager\n",
    "from qm.qua import *\n",
    "from qm import SimulationConfig\n",
    "from Configuration_BMDevice import config, RR_1_IF,RO_lo, readout_len, Q1_lo, Q1_IF, sat_Q1_len, gauss_len, R1_RS, Q1_RS, t_Q1_pi, amp_Q1_pi"
   ]
  },
  {
   "cell_type": "code",
   "execution_count": null,
   "metadata": {},
   "outputs": [],
   "source": [
    "from scipy.signal import gaussian\n",
    "print(readout_len)\n",
    "gauss_test = 0.5 * gaussian(gauss_len, 0.15* gauss_len)\n",
    "plt.plot(gauss_test)"
   ]
  },
  {
   "cell_type": "markdown",
   "metadata": {},
   "source": [
    "# Edit configuration parameters"
   ]
  },
  {
   "cell_type": "markdown",
   "metadata": {},
   "source": [
    "**To do**"
   ]
  },
  {
   "cell_type": "markdown",
   "metadata": {},
   "source": [
    "# Define microwave sources"
   ]
  },
  {
   "cell_type": "code",
   "execution_count": null,
   "metadata": {},
   "outputs": [],
   "source": [
    "RR = RS_SGS100A(\"TCPIP::169.254.184.193::INSTR\", reset=True,verb=True) \n",
    "RR.EXTref()\n",
    "RR.RFon()\n",
    "RR.setCWpower(-15)\n",
    "RR.setCWfrequency(RO_lo)\n",
    "RR.write(':SOURce:IQ:IMPairment:LEAKage:I ' + R1_RS[0])\n",
    "RR.write('SOURce:IQ:IMPairment:LEAKage:Q ' + R1_RS[1])\n",
    "RR.write(':SOURce:IQ:IMPairment:IQRatio:MAGNitude ' + R1_RS[2])\n",
    "RR.write(':SOURce:IQ:IMPairment:QUADrature:ANGLe ' + R1_RS[3])\n",
    "RR.IQon()\n",
    "RR.write(':SOURce:IQ:IMPairment:STATe ON')\n",
    "\n",
    "#LO for downconversion\n",
    "MXG = Keysight_N5183B(addr='TCPIP::192.168.1.91::INSTR',reset=True,verb=True)\n",
    "MXG.RFon()\n",
    "MXG.setCWpower(19)\n",
    "MXG.setCWfrequency(RO_lo)\n",
    "MXG.INTref()\n",
    "\n",
    "QDrive = RS_SGS100A(\"TCPIP::169.254.50.124::INSTR\", reset=True,verb=True) \n",
    "QDrive.EXTref()\n",
    "QDrive.RFon()\n",
    "QDrive.setCWpower(0)\n",
    "QDrive.setCWfrequency(Q1_lo)\n",
    "QDrive.write(':SOURce:IQ:IMPairment:LEAKage:I ' + Q1_RS[0])\n",
    "QDrive.write('SOURce:IQ:IMPairment:LEAKage:Q ' + Q1_RS[1])\n",
    "QDrive.write(':SOURce:IQ:IMPairment:IQRatio:MAGNitude ' + Q1_RS[2])\n",
    "QDrive.write(':SOURce:IQ:IMPairment:QUADrature:ANGLe ' + Q1_RS[3])\n",
    "QDrive.IQon()\n",
    "QDrive.write(':SOURce:IQ:IMPairment:STATe ON')"
   ]
  },
  {
   "cell_type": "markdown",
   "metadata": {},
   "source": [
    "# Configure QM unit"
   ]
  },
  {
   "cell_type": "code",
   "execution_count": null,
   "metadata": {},
   "outputs": [],
   "source": [
    "qmm = QuantumMachinesManager()\n",
    "qm = qmm.open_qm(config)"
   ]
  },
  {
   "cell_type": "markdown",
   "metadata": {},
   "source": [
    "# QUA Program"
   ]
  },
  {
   "cell_type": "code",
   "execution_count": null,
   "metadata": {},
   "outputs": [],
   "source": [
    "def qubit_pulse_cal(n_max, f_vec, a_vec, b, QLO_Power):\n",
    "    QDrive.setCWpower(QLO_Power)\n",
    "    \n",
    "    f_min = np.min(f_vec)\n",
    "    f_max = np.max(f_vec)\n",
    "    df = f_vec[1]-f_vec[0]\n",
    "    \n",
    "    a_min = np.min(a_vec)\n",
    "    a_max = np.max(a_vec)\n",
    "    \n",
    "    if len(a_vec) == 1: \n",
    "        da = 1 \n",
    "    else:\n",
    "        da = a_vec[1]-a_vec[0]\n",
    "    \n",
    "    with program() as qubit_pulse_cal:\n",
    "\n",
    "        ##############################\n",
    "        # declare real-time variables:\n",
    "        ##############################\n",
    "\n",
    "        n = declare(int)        # Averaging\n",
    "        f = declare(int)        # Frequencies\n",
    "        a=declare(fixed)\n",
    "\n",
    "        A=declare(fixed)\n",
    "        B=declare(fixed)\n",
    "        iA=declare(fixed)\n",
    "        iB=declare(fixed)\n",
    "        Re=declare(fixed)\n",
    "        Im=declare(fixed)\n",
    "\n",
    "        Re_st = declare_stream()\n",
    "        Im_st = declare_stream()\n",
    "\n",
    "        ###############\n",
    "        # the sequence:\n",
    "        ###############\n",
    "        with for_(n, 0, n < n_max, n + 1):\n",
    "\n",
    "            with for_(f, f_min, f < f_max+df/2, f + df):\n",
    "                \n",
    "                update_frequency(\"RR_1\", f)\n",
    "\n",
    "                with for_(a,a_min,a<a_max+da/2,a+da):\n",
    "                    \n",
    "                    wait(int(5000/4),\"RR_1\",\"Q1\")\n",
    "\n",
    "                    #play(\"saturation\"*amp(a), \"Q1\")\n",
    "                    play(\"gaussian\"*amp(a), \"Q1\", duration = t_Q1_pi)\n",
    "                    align(\"Q1\", \"RR_1\")\n",
    "                    #wait(int((gauss_len-gauss_len/2)/4),\"RR_1\")\n",
    "\n",
    "                    measure(\"readout\"*amp(b), \"RR_1\", None, demod.full(\"integW_cos\", A, \"out1\"),\n",
    "                                                                demod.full(\"integW_sin\",B,\"out2\"),\n",
    "                                                                demod.full(\"integW_sin\", iA, \"out1\"),\n",
    "                                                                demod.full(\"integW_cos\",iB,\"out2\"))\n",
    "\n",
    "                    assign(Re, A + B)       \n",
    "                    assign(Im, iA - iB)\n",
    "                    save(Re, Re_st)\n",
    "                    save(Im, Im_st)              \n",
    "\n",
    "        with stream_processing():\n",
    "            Re_st.buffer(len(f_vec), len(a_vec)).average().save(\"Re\")\n",
    "            Im_st.buffer(len(f_vec), len(a_vec)).average().save(\"Im\")\n",
    "    \n",
    "    job = qm.execute(qubit_pulse_cal, duration_limit=0, data_limit=0)\n",
    "    \n",
    "    res_handles= job.result_handles\n",
    "    res_handles.wait_for_all_values()\n",
    "\n",
    "    Re_handle = res_handles.get(\"Re\")\n",
    "    Im_handle = res_handles.get(\"Im\")\n",
    "    \n",
    "    Re_s = Re_handle.fetch_all()\n",
    "    Im_s = Im_handle.fetch_all()\n",
    "    \n",
    "    return Re_s, Im_s"
   ]
  },
  {
   "cell_type": "markdown",
   "metadata": {},
   "source": [
    "# Define Parameters"
   ]
  },
  {
   "cell_type": "code",
   "execution_count": null,
   "metadata": {},
   "outputs": [],
   "source": [
    "n_max = 5000 #10000\n",
    "\n",
    "f_min = RR_1_IF-10.0e6 \n",
    "f_max = RR_1_IF+10e6 \n",
    "df = 0.5e6 #0.1e6\n",
    "f_vec = np.arange(f_min, f_max+df/2, df)\n",
    "\n",
    "#Readout pulse amplitude\n",
    "b = 0.24\n",
    "\n",
    "# Qubit pulse amp \n",
    "a_min = 0\n",
    "a_max = 2\n",
    "#da = 0.005\n",
    "da = 0.1 #0.025 #0.01\n",
    "a_vec=np.arange(a_min,a_max+da/2,da)\n",
    "\n",
    "print(len(a_vec))\n",
    "print(len(f_vec))\n",
    "print(a_vec)"
   ]
  },
  {
   "cell_type": "code",
   "execution_count": null,
   "metadata": {
    "scrolled": true
   },
   "outputs": [],
   "source": [
    "Re, Im = qubit_pulse_cal(n_max, f_vec, a_vec, b, 0)"
   ]
  },
  {
   "cell_type": "markdown",
   "metadata": {},
   "source": [
    "## Fetch data and save to .dat"
   ]
  },
  {
   "cell_type": "code",
   "execution_count": null,
   "metadata": {},
   "outputs": [],
   "source": [
    "prefix = 'S' #prefix for measurement folder name.  Can be anything or empty\n",
    "idstring = f'Q1_Pulse_Cal'\n",
    "\n",
    "data_Re = Re\n",
    "data_Im = Im\n",
    "data_Sig = np.abs(data_Re + 1j*data_Im)\n",
    "data_Amp = 20*(np.log10(np.abs(data_Sig)))\n",
    "data_Ph = np.unwrap(np.arctan(data_Im/data_Re))\n",
    "\n",
    "data = np.asarray([(RO_lo+(f_vec.reshape(len(f_vec),1)+a_vec)-a_vec).T,np.round(((a_vec.reshape(len(a_vec),1))+f_vec)-f_vec,3),data_Re.T,data_Im.T,data_Sig.T,data_Amp.T,data_Ph.T])\n",
    "\n",
    "for i,qpow in enumerate(a_vec):\n",
    "    print(i,qpow)\n",
    "    data_dict={'Frequency (Hz)':data[0][i],\n",
    "           'Qubit Pulse Amplitude':data[1][i],\n",
    "           'Real':data[2][i],\n",
    "           'Imaginary':data[3][i],\n",
    "           'Signal':data[4][i],\n",
    "           'Amplitude (dB)':data[5][i],\n",
    "           'Phase (rad)':data[6][i]\n",
    "    }\n",
    "    if i==0:\n",
    "        old_stdout = sys.stdout\n",
    "        new_stdout = io.StringIO()\n",
    "        sys.stdout = new_stdout\n",
    "\n",
    "        myfile=stlab.newfile(prefix,idstring,data_dict.keys(),autoindex=True, git_id = False)\n",
    "\n",
    "        output = new_stdout.getvalue()\n",
    "        sys.stdout = old_stdout\n",
    "        print(output)\n",
    "        M_ind = output.find(\"Measurement Name\")\n",
    "        M_name = output[M_ind+len('Measurement Name:  '):-1]\n",
    "    stlab.savedict(myfile,data_dict)\n",
    "    stlab.metagen.fromarrays(myfile,data_dict['Frequency (Hz)'],a_vec[0:i+1],xtitle='Frequency (Hz)',ytitle='Qubit Pulse Amplitude',colnames=list(data_dict))"
   ]
  },
  {
   "cell_type": "markdown",
   "metadata": {},
   "source": [
    "# Processing/Plotting"
   ]
  },
  {
   "cell_type": "markdown",
   "metadata": {},
   "source": [
    "#### Pulse cal frequency sweep"
   ]
  },
  {
   "cell_type": "code",
   "execution_count": null,
   "metadata": {},
   "outputs": [],
   "source": [
    "sig = Re + 1j*Im\n",
    "\n",
    "power = 20*(np.log10(np.abs(sig)))#+10*np.log10(1000/50)#np.abs(sig)   #equation from wiki\n",
    "power2=power/np.mean(power,axis=0)                             #norm lbl\n",
    "power3=(scipy.ndimage.gaussian_filter(1/(power/np.mean(power,axis=0)),[1,5])) #gaussian filtered norm lbl\n",
    "power4=power-np.mean(power,axis=0)                                    #sub lbl\n",
    "power5=scipy.ndimage.gaussian_filter(power,[1,3])-np.mean(power,axis=0)#gaussian filtered sub lbl\n",
    "power6=scipy.ndimage.gaussian_filter(power,[1,3]) #just gaussian filtered\n",
    "phase = np.unwrap(np.arctan(Im/Re))\n",
    "\n",
    "plt.figure(num=None, figsize=(8, 6), dpi=100)\n",
    "plt.tight_layout()\n",
    "#plt.plot(RO_lo+f_vec,power)\n",
    "#wait_time = 0 \n",
    "\n",
    "X, Y = np.meshgrid((RO_lo+f_vec)/1e9, a_vec)\n",
    "plt.contourf(X,Y, power.T,levels=100,norm=colors.PowerNorm(gamma=2.5),cmap='RdBu')\n",
    "# #plt.plot((XY2_lo+f_vec)/1e9,power)\n",
    "plt.xlabel('Frequency (GHz)')\n",
    "# plt.title('Qubit PowSpec, t_Q={}ns, t_RO={}ns, wait={}ns, R_amp = {}, longw={}ns'.format(sat_Q1_len,readout_len,wait_time,b,5*sat_Q1_len))\n",
    "# #plt.title('Qubit PowSpec, t_Q={}ns, t_RO={}ns, align, R={}, longw={}'.format(sat_Q2_len,readout_len,b,3*wait_time))\n",
    "# #plt.xticks(X[0,0],X[0,-1])\n",
    "plt.ylabel('Qubit Pulse Amplitude')\n",
    "cbar = plt.colorbar()\n",
    "cbar.ax.get_yaxis().labelpad = 15\n",
    "# cbar.ax.set_ylabel('Normalized Signal Amplitude', rotation=270);"
   ]
  },
  {
   "cell_type": "markdown",
   "metadata": {},
   "source": [
    "# Save this file and configuration file to measurement folder"
   ]
  },
  {
   "cell_type": "code",
   "execution_count": null,
   "metadata": {},
   "outputs": [],
   "source": [
    "#save notebook\n",
    "display(Javascript('IPython.notebook.save_checkpoint();'))"
   ]
  },
  {
   "cell_type": "code",
   "execution_count": null,
   "metadata": {},
   "outputs": [],
   "source": [
    "%%javascript\n",
    "IPython.notebook.kernel.execute('nb_name = \"' + IPython.notebook.notebook_name + '\"')"
   ]
  },
  {
   "cell_type": "code",
   "execution_count": null,
   "metadata": {},
   "outputs": [],
   "source": [
    "#define document paths\n",
    "meas_path = os.path.join(os.getcwd(),M_name)\n",
    "\n",
    "current_nb_path = os.path.join(os.getcwd(),nb_name)\n",
    "save_nb_path = os.path.join(meas_path,nb_name)\n",
    "\n",
    "current_config_path = os.path.join(os.getcwd(), 'Configuration_BMDevice.py')\n",
    "save_config_path = os.path.join(meas_path, 'Configuration_BMDevice.py')\n",
    "\n",
    "#copy to measurement folder \n",
    "copy2(current_nb_path,save_nb_path);\n",
    "copy2(current_config_path,save_config_path);"
   ]
  },
  {
   "cell_type": "markdown",
   "metadata": {},
   "source": [
    "#### Some other program"
   ]
  },
  {
   "cell_type": "code",
   "execution_count": null,
   "metadata": {},
   "outputs": [],
   "source": [
    "def qubit_pulse_len_cal(n_max, f_vec, a, b, t_vec, QLO_Power):\n",
    "    Re_t = np.zeros([len(f_vec),len(t_vec)])\n",
    "    Im_t = np.zeros([len(f_vec),len(t_vec)])\n",
    "    \n",
    "    for i in range(len(t_vec)):\n",
    "        config['pulses']['gaussian_pulse']['length'] = t_vec[i]\n",
    "        config['waveforms']['gauss_wf']['samples'] = 0.5 * gaussian(t_vec[i], 0.25*t_vec[i])\n",
    "\n",
    "        qmm = QuantumMachinesManager()\n",
    "        qm = qmm.open_qm(config)\n",
    "\n",
    "        QDrive.setCWpower(QLO_Power)\n",
    "\n",
    "        f_min = np.min(f_vec)\n",
    "        f_max = np.max(f_vec)\n",
    "        df = f_vec[1]-f_vec[0]\n",
    "\n",
    "        with program() as qubit_pulse_len_cal:\n",
    "\n",
    "            ##############################\n",
    "            # declare real-time variables:\n",
    "            ##############################\n",
    "\n",
    "            n = declare(int)        # Averaging\n",
    "            f = declare(int)        # Frequencies\n",
    "\n",
    "            A=declare(fixed)\n",
    "            B=declare(fixed)\n",
    "            iA=declare(fixed)\n",
    "            iB=declare(fixed)\n",
    "            Re=declare(fixed)\n",
    "            Im=declare(fixed)\n",
    "\n",
    "            Re_st = declare_stream()\n",
    "            Im_st = declare_stream()\n",
    "\n",
    "            ###############\n",
    "            # the sequence:\n",
    "            ###############\n",
    "            with for_(n, 0, n < n_max, n + 1):\n",
    "\n",
    "                with for_(f, f_min, f < f_max+df/2, f + df):\n",
    "\n",
    "                    update_frequency(\"RR_1\", f)                \n",
    "                    #with for_(t,t_min,t < t_max+dt/2,t+dt):\n",
    "                    wait(int(2500/4),\"RR_1\",\"Q1\")\n",
    "                    #play(\"saturation\"*amp(a), \"Q1\")\n",
    "                    play(\"gaussian\"*amp(a), \"Q1\", duration = t)\n",
    "                    align(\"Q1\", \"RR_1\")\n",
    "                    #wait(int((sat_Q1_len-readout_len/2)/4),\"RR_1\")\n",
    "\n",
    "                    measure(\"readout\"*amp(b), \"RR_1\", None, demod.full(\"integW_cos\", A, \"out1\"),\n",
    "                                                                demod.full(\"integW_sin\",B,\"out2\"),\n",
    "                                                                demod.full(\"integW_sin\", iA, \"out1\"),\n",
    "                                                                demod.full(\"integW_cos\",iB,\"out2\"))\n",
    "\n",
    "                    assign(Re, A + B)       \n",
    "                    assign(Im, iA - iB)\n",
    "                    save(Re, Re_st)\n",
    "                    save(Im, Im_st)              \n",
    "\n",
    "            with stream_processing():\n",
    "                Re_st.buffer(len(f_vec)).average().save(\"Re\")\n",
    "                Im_st.buffer(len(f_vec)).average().save(\"Im\")\n",
    "\n",
    "        job = qm.execute(qubit_pulse_len_cal, duration_limit=0, data_limit=0)\n",
    "\n",
    "        res_handles= job.result_handles\n",
    "        res_handles.wait_for_all_values()\n",
    "\n",
    "        Re_handle = res_handles.get(\"Re\")\n",
    "        Im_handle = res_handles.get(\"Im\")\n",
    "\n",
    "        Re_s = Re_handle.fetch_all()\n",
    "        Im_s = Im_handle.fetch_all()\n",
    "        \n",
    "        Re_t[:,i] = Re_s\n",
    "        Im_t[:,i] = Im_s\n",
    "    \n",
    "    return Re_t, Im_t"
   ]
  }
 ],
 "metadata": {
  "kernelspec": {
   "display_name": "Python 3",
   "language": "python",
   "name": "python3"
  },
  "language_info": {
   "codemirror_mode": {
    "name": "ipython",
    "version": 3
   },
   "file_extension": ".py",
   "mimetype": "text/x-python",
   "name": "python",
   "nbconvert_exporter": "python",
   "pygments_lexer": "ipython3",
   "version": "3.8.8"
  }
 },
 "nbformat": 4,
 "nbformat_minor": 4
}
