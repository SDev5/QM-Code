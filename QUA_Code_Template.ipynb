{
 "cells": [
  {
   "cell_type": "markdown",
   "metadata": {},
   "source": [
    "# Import modules"
   ]
  },
  {
   "cell_type": "code",
   "execution_count": null,
   "metadata": {},
   "outputs": [],
   "source": [
    "import stlab\n",
    "import matplotlib.pyplot as plt\n",
    "from matplotlib.gridspec import GridSpec\n",
    "import numpy as np\n",
    "import matplotlib.pyplot as plt\n",
    "import matplotlib.colors as colors\n",
    "import scipy\n",
    "from scipy.optimize import *\n",
    "import time\n",
    "import sys \n",
    "import io\n",
    "import os\n",
    "from IPython.display import display, Javascript\n",
    "from shutil import *\n",
    "from stlab.devices.RS_SGS100A import RS_SGS100A\n",
    "\n",
    "from qm.QuantumMachinesManager import QuantumMachinesManager\n",
    "from qm.qua import *\n",
    "from qm import SimulationConfig\n",
    "from Configuration_BMDevice import config, RR_1_IF,RO_lo, readout_len, Q1_lo, Q1_IF, sat_Q1_len, gauss_len, R1_RS, Q1_RS\n",
    "print(readout_len)"
   ]
  },
  {
   "cell_type": "markdown",
   "metadata": {},
   "source": [
    "# Edit configuration parameters"
   ]
  },
  {
   "cell_type": "markdown",
   "metadata": {},
   "source": [
    "**To do**"
   ]
  },
  {
   "cell_type": "markdown",
   "metadata": {},
   "source": [
    "# Define microwave sources"
   ]
  },
  {
   "cell_type": "code",
   "execution_count": null,
   "metadata": {},
   "outputs": [],
   "source": [
    "RR = RS_SGS100A(\"TCPIP::169.254.2.20::INSTR\", reset=True,verb=True) \n",
    "RR.EXTref()\n",
    "RR.RFon()\n",
    "RR.setCWpower(-15)\n",
    "RR.setCWfrequency(RO_lo)\n",
    "RR.write(':SOURce:IQ:IMPairment:LEAKage:I ' + R1_RS[0])\n",
    "RR.write('SOURce:IQ:IMPairment:LEAKage:Q ' + R1_RS[1])\n",
    "RR.write(':SOURce:IQ:IMPairment:IQRatio:MAGNitude ' + R1_RS[2])\n",
    "RR.write(':SOURce:IQ:IMPairment:QUADrature:ANGLe ' + R1_RS[3])\n",
    "RR.IQon()\n",
    "RR.write(':SOURce:IQ:IMPairment:STATe ON')\n",
    "\n",
    "QDrive = RS_SGS100A(\"TCPIP::169.254.50.124::INSTR\", reset=True,verb=True) \n",
    "QDrive.EXTref()\n",
    "QDrive.RFon()\n",
    "QDrive.setCWpower(0)\n",
    "QDrive.setCWfrequency(Q1_lo)\n",
    "QDrive.write(':SOURce:IQ:IMPairment:LEAKage:I ' + Q1_RS[0])\n",
    "QDrive.write('SOURce:IQ:IMPairment:LEAKage:Q ' + Q1_RS[1])\n",
    "QDrive.write(':SOURce:IQ:IMPairment:IQRatio:MAGNitude ' + Q1_RS[2])\n",
    "QDrive.write(':SOURce:IQ:IMPairment:QUADrature:ANGLe ' + Q1_RS[3])\n",
    "QDrive.IQon()\n",
    "QDrive.write(':SOURce:IQ:IMPairment:STATe ON')"
   ]
  },
  {
   "cell_type": "markdown",
   "metadata": {},
   "source": [
    "# Configure QM unit"
   ]
  },
  {
   "cell_type": "code",
   "execution_count": null,
   "metadata": {},
   "outputs": [],
   "source": [
    "qmm = QuantumMachinesManager()\n",
    "qm = qmm.open_qm(config)"
   ]
  },
  {
   "cell_type": "markdown",
   "metadata": {},
   "source": [
    "# QUA Program"
   ]
  },
  {
   "cell_type": "code",
   "execution_count": null,
   "metadata": {},
   "outputs": [],
   "source": []
  },
  {
   "cell_type": "markdown",
   "metadata": {},
   "source": [
    "# Define Parameters"
   ]
  },
  {
   "cell_type": "code",
   "execution_count": null,
   "metadata": {},
   "outputs": [],
   "source": []
  },
  {
   "cell_type": "code",
   "execution_count": null,
   "metadata": {},
   "outputs": [],
   "source": []
  },
  {
   "cell_type": "markdown",
   "metadata": {},
   "source": [
    "# Fetch data and save to .dat"
   ]
  },
  {
   "cell_type": "code",
   "execution_count": null,
   "metadata": {},
   "outputs": [],
   "source": []
  },
  {
   "cell_type": "markdown",
   "metadata": {},
   "source": [
    "# Processing/Plotting"
   ]
  },
  {
   "cell_type": "code",
   "execution_count": null,
   "metadata": {},
   "outputs": [],
   "source": []
  },
  {
   "cell_type": "markdown",
   "metadata": {},
   "source": [
    "# Save this file and configuration file to measurement folder"
   ]
  },
  {
   "cell_type": "code",
   "execution_count": null,
   "metadata": {},
   "outputs": [],
   "source": [
    "#save notebook\n",
    "display(Javascript('IPython.notebook.save_checkpoint();'))"
   ]
  },
  {
   "cell_type": "code",
   "execution_count": null,
   "metadata": {},
   "outputs": [],
   "source": [
    "%%javascript\n",
    "IPython.notebook.kernel.execute('nb_name = \"' + IPython.notebook.notebook_name + '\"')"
   ]
  },
  {
   "cell_type": "code",
   "execution_count": null,
   "metadata": {},
   "outputs": [],
   "source": [
    "#define document paths\n",
    "meas_path = os.path.join(os.getcwd(),M_name)\n",
    "\n",
    "current_nb_path = os.path.join(os.getcwd(),nb_name)\n",
    "save_nb_path = os.path.join(meas_path,nb_name)\n",
    "\n",
    "current_config_path = os.path.join(os.getcwd(), 'Configuration_BMDevice.py')\n",
    "save_config_path = os.path.join(meas_path, 'Configuration_BMDevice.py')\n",
    "\n",
    "#copy to measurement folder \n",
    "copy2(current_nb_path,save_nb_path);\n",
    "copy2(current_config_path,save_config_path);"
   ]
  }
 ],
 "metadata": {
  "kernelspec": {
   "display_name": "Python 3",
   "language": "python",
   "name": "python3"
  },
  "language_info": {
   "codemirror_mode": {
    "name": "ipython",
    "version": 3
   },
   "file_extension": ".py",
   "mimetype": "text/x-python",
   "name": "python",
   "nbconvert_exporter": "python",
   "pygments_lexer": "ipython3",
   "version": "3.8.8"
  }
 },
 "nbformat": 4,
 "nbformat_minor": 4
}
